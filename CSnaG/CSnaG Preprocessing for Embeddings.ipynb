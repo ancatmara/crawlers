{
 "cells": [
  {
   "cell_type": "code",
   "execution_count": 87,
   "metadata": {},
   "outputs": [],
   "source": [
    "from collections import Counter\n",
    "import pandas as pd\n",
    "import pickle\n",
    "import json \n",
    "import re\n",
    "import os"
   ]
  },
  {
   "cell_type": "code",
   "execution_count": 2,
   "metadata": {},
   "outputs": [],
   "source": [
    "punc_full = \"[‘’–:—;.,!?–&-$\\\"^«»<>/\\|%=\\[\\]()*+‘]+\"\n",
    "punc = \"[‘’–:—;.,!?–$\\\"^«»<>/\\|%=\\[\\]()*+‘]+\"\n",
    "\n",
    "mutations = {\n",
    "                'bh': 'b', 'mb': 'b', 'ch': 'c', 'gc': 'c', 'gh': 'g',\n",
    "                'ng': 'g', 'dh': 'd', 'nd': 'd', 'fh': 'f', 'ḟ': 'f',\n",
    "                'ḟh': 'f', 'bhf': 'f', 'mm': 'm', 'll': 'l', 'nn': 'n',\n",
    "                'ph': 'p', 'bp': 'p', 'rr': 'r', 'sh': 's', 'ṡ': 's',\n",
    "                'th': 't', 'dt': 't', 'he': 'e', 'hé': 'é', 'ha': 'a',\n",
    "                'há': 'á', 'hi': 'i', 'hí': 'í', 'ho': 'o', 'hó': 'ó',\n",
    "                'hu': 'u', 'hú': 'ú', 'n-': '', 'h-': '', 'ss': 's',\n",
    "                'ts': 's', 'n': 'e', 'né': 'é', 'na': 'a', 'ná': 'á',\n",
    "                'ni': 'i', 'ní': 'í', 'no': 'o', 'nó': 'ó', 'nu': 'u',\n",
    "                'nú': 'ú', 'm-': '', 't-': '', 't\\'': ' ', 'm\\'': '',\n",
    "                'd\\'': '', 'l-': '', 'mh': 'm', 'r-': '', 's-': '',\n",
    "                'cc': 'c', 'mh\\'': '', 'g-': 'g'}"
   ]
  },
  {
   "cell_type": "code",
   "execution_count": 23,
   "metadata": {},
   "outputs": [],
   "source": [
    "def preprocess(data):\n",
    "    words = []\n",
    "    sents = []\n",
    "    for sent in data:\n",
    "        sent = sent.strip('\\n')\n",
    "        if len(sent) > 1:\n",
    "            sent = sent.replace('.i.', '_i_')\n",
    "            sent = sent.replace('.l.', '_l_')\n",
    "            sent = sent.replace(' & ', ' _&_ ')\n",
    "            sent = ' '.join([w.strip(punc_full) for w in sent.split()]).lower()\n",
    "            sent = sent.replace(punc, ' ')\n",
    "            sents.append(sent)\n",
    "            words += sent.split()\n",
    "    return sents, words\n",
    "\n",
    "def split_sents(text):\n",
    "    try:\n",
    "        sents = re.split(r'\\?’|!’|\\.’|!|\\?|\\.|…', text)\n",
    "    except TypeError:\n",
    "        print(text)\n",
    "        sents = []\n",
    "    return sents"
   ]
  },
  {
   "cell_type": "code",
   "execution_count": 14,
   "metadata": {},
   "outputs": [
    {
     "data": {
      "text/html": [
       "<div>\n",
       "<style scoped>\n",
       "    .dataframe tbody tr th:only-of-type {\n",
       "        vertical-align: middle;\n",
       "    }\n",
       "\n",
       "    .dataframe tbody tr th {\n",
       "        vertical-align: top;\n",
       "    }\n",
       "\n",
       "    .dataframe thead th {\n",
       "        text-align: right;\n",
       "    }\n",
       "</style>\n",
       "<table border=\"1\" class=\"dataframe\">\n",
       "  <thead>\n",
       "    <tr style=\"text-align: right;\">\n",
       "      <th></th>\n",
       "      <th>csg_id</th>\n",
       "      <th>title</th>\n",
       "      <th>author</th>\n",
       "      <th>pen_name</th>\n",
       "      <th>editor</th>\n",
       "      <th>year</th>\n",
       "      <th>century</th>\n",
       "      <th>genre</th>\n",
       "      <th>publisher</th>\n",
       "      <th>link</th>\n",
       "      <th>text</th>\n",
       "      <th>tokens</th>\n",
       "      <th>types</th>\n",
       "    </tr>\n",
       "  </thead>\n",
       "  <tbody>\n",
       "    <tr>\n",
       "      <th>0</th>\n",
       "      <td>3663</td>\n",
       "      <td>Abhráin atá leagtha ar an Reachtabhrach</td>\n",
       "      <td>De hÍde, Dubhghlas</td>\n",
       "      <td>Craoibhín Aoibhinn, An</td>\n",
       "      <td>–</td>\n",
       "      <td>1903</td>\n",
       "      <td>20</td>\n",
       "      <td>prose</td>\n",
       "      <td>Gill agus a mhac</td>\n",
       "      <td>http://corpas.ria.ie/index.php?fsg_function=5&amp;...</td>\n",
       "      <td>ABHRÁIN AN REACHTÚIRE. Nuair caithtear cloch i...</td>\n",
       "      <td>48703</td>\n",
       "      <td>7588</td>\n",
       "    </tr>\n",
       "    <tr>\n",
       "      <th>1</th>\n",
       "      <td>437</td>\n",
       "      <td>Abhráin Diadha Chúige Connacht I</td>\n",
       "      <td>In eagar ag Dubhglas De hÍde</td>\n",
       "      <td>Craoibhín Aoibhinn, An</td>\n",
       "      <td>De hÍde, Dubhglas</td>\n",
       "      <td>1906</td>\n",
       "      <td>20</td>\n",
       "      <td>prose</td>\n",
       "      <td>Gill / Unwin</td>\n",
       "      <td>http://corpas.ria.ie/index.php?fsg_function=5&amp;...</td>\n",
       "      <td>ABHRÁIN DIADHA CHÚIGE CONNACHT. Is cráibhtheac...</td>\n",
       "      <td>51331</td>\n",
       "      <td>8141</td>\n",
       "    </tr>\n",
       "    <tr>\n",
       "      <th>2</th>\n",
       "      <td>438</td>\n",
       "      <td>Abhráin Diadha Chúige Connacht II</td>\n",
       "      <td>In eagar ag Dubhglas De hÍde</td>\n",
       "      <td>Craoibhín Aoibhinn, An</td>\n",
       "      <td>De hÍde, Dubhglas</td>\n",
       "      <td>1906</td>\n",
       "      <td>20</td>\n",
       "      <td>prose</td>\n",
       "      <td>Gill / Unwin</td>\n",
       "      <td>http://corpas.ria.ie/index.php?fsg_function=5&amp;...</td>\n",
       "      <td>Ag so giota neamh-ghnáthach tá rud-beag cosmhú...</td>\n",
       "      <td>50595</td>\n",
       "      <td>8119</td>\n",
       "    </tr>\n",
       "    <tr>\n",
       "      <th>3</th>\n",
       "      <td>457</td>\n",
       "      <td>Abhráin Ghaedhilge an Iarthair, an Chéad Chuid</td>\n",
       "      <td>Údair éagsúla, bailithe ag Mícheál Ó Tiománaidhe</td>\n",
       "      <td>–</td>\n",
       "      <td>Ó Tiománaidhe, Micheál</td>\n",
       "      <td>1906</td>\n",
       "      <td>20</td>\n",
       "      <td>prose</td>\n",
       "      <td>Connradh na Gaedhilge</td>\n",
       "      <td>http://corpas.ria.ie/index.php?fsg_function=5&amp;...</td>\n",
       "      <td>Reamhrádh. Ní raibh éan ríoghacht ar dhruim ua...</td>\n",
       "      <td>22526</td>\n",
       "      <td>4778</td>\n",
       "    </tr>\n",
       "    <tr>\n",
       "      <th>4</th>\n",
       "      <td>439</td>\n",
       "      <td>Abhráin Grádh Chúige Connacht(Love Songs of Co...</td>\n",
       "      <td>In eagar ag Dubhglas De hÍde</td>\n",
       "      <td>Craoibhín Aoibhinn, An</td>\n",
       "      <td>De hÍde, Dubhglas</td>\n",
       "      <td>1893</td>\n",
       "      <td>19</td>\n",
       "      <td>poetry</td>\n",
       "      <td>Gill / Unwin</td>\n",
       "      <td>http://corpas.ria.ie/index.php?fsg_function=5&amp;...</td>\n",
       "      <td>AN CEATRAMHADH CAIBIDIL ABHRÁIN GRÁDH. Tar éis...</td>\n",
       "      <td>22833</td>\n",
       "      <td>4604</td>\n",
       "    </tr>\n",
       "  </tbody>\n",
       "</table>\n",
       "</div>"
      ],
      "text/plain": [
       "   csg_id                                              title  \\\n",
       "0    3663            Abhráin atá leagtha ar an Reachtabhrach   \n",
       "1     437                   Abhráin Diadha Chúige Connacht I   \n",
       "2     438                  Abhráin Diadha Chúige Connacht II   \n",
       "3     457     Abhráin Ghaedhilge an Iarthair, an Chéad Chuid   \n",
       "4     439  Abhráin Grádh Chúige Connacht(Love Songs of Co...   \n",
       "\n",
       "                                             author                 pen_name  \\\n",
       "0                                De hÍde, Dubhghlas   Craoibhín Aoibhinn, An   \n",
       "1                      In eagar ag Dubhglas De hÍde  Craoibhín Aoibhinn, An    \n",
       "2                      In eagar ag Dubhglas De hÍde  Craoibhín Aoibhinn, An    \n",
       "3  Údair éagsúla, bailithe ag Mícheál Ó Tiománaidhe                        –   \n",
       "4                      In eagar ag Dubhglas De hÍde  Craoibhín Aoibhinn, An    \n",
       "\n",
       "                   editor  year century   genre              publisher  \\\n",
       "0                       –  1903      20   prose       Gill agus a mhac   \n",
       "1       De hÍde, Dubhglas  1906      20   prose           Gill / Unwin   \n",
       "2       De hÍde, Dubhglas  1906      20   prose           Gill / Unwin   \n",
       "3  Ó Tiománaidhe, Micheál  1906      20   prose  Connradh na Gaedhilge   \n",
       "4       De hÍde, Dubhglas  1893      19  poetry           Gill / Unwin   \n",
       "\n",
       "                                                link  \\\n",
       "0  http://corpas.ria.ie/index.php?fsg_function=5&...   \n",
       "1  http://corpas.ria.ie/index.php?fsg_function=5&...   \n",
       "2  http://corpas.ria.ie/index.php?fsg_function=5&...   \n",
       "3  http://corpas.ria.ie/index.php?fsg_function=5&...   \n",
       "4  http://corpas.ria.ie/index.php?fsg_function=5&...   \n",
       "\n",
       "                                                text  tokens  types  \n",
       "0  ABHRÁIN AN REACHTÚIRE. Nuair caithtear cloch i...   48703   7588  \n",
       "1  ABHRÁIN DIADHA CHÚIGE CONNACHT. Is cráibhtheac...   51331   8141  \n",
       "2  Ag so giota neamh-ghnáthach tá rud-beag cosmhú...   50595   8119  \n",
       "3  Reamhrádh. Ní raibh éan ríoghacht ar dhruim ua...   22526   4778  \n",
       "4  AN CEATRAMHADH CAIBIDIL ABHRÁIN GRÁDH. Tar éis...   22833   4604  "
      ]
     },
     "execution_count": 14,
     "metadata": {},
     "output_type": "execute_result"
    }
   ],
   "source": [
    "data = pd.read_csv('csg_books.tsv', encoding='utf-8', sep='\\t')\n",
    "data.fillna(\"–\", inplace=True)\n",
    "data.head()"
   ]
  },
  {
   "cell_type": "code",
   "execution_count": 42,
   "metadata": {},
   "outputs": [],
   "source": [
    "texts16 = list(data[data['century'] == '16']['text'])\n",
    "texts17 = list(data[data['century'] == '17']['text'])\n",
    "texts18 = list(data[data['century'] == '18']['text'])\n",
    "texts19 = list(data[data['century'] == '19']['text'])\n",
    "texts20 = list(data[data['century'] == '20']['text'])"
   ]
  },
  {
   "cell_type": "code",
   "execution_count": 43,
   "metadata": {},
   "outputs": [
    {
     "name": "stdout",
     "output_type": "stream",
     "text": [
      "4\n",
      "204\n",
      "243\n",
      "256\n",
      "281\n"
     ]
    }
   ],
   "source": [
    "print(len(texts16))\n",
    "print(len(texts17))\n",
    "print(len(texts18))\n",
    "print(len(texts19))\n",
    "print(len(texts20))"
   ]
  },
  {
   "cell_type": "code",
   "execution_count": 44,
   "metadata": {},
   "outputs": [
    {
     "data": {
      "text/plain": [
       "'ABHRÁIN AN REACHTÚIRE. Nuair caithtear cloch i n-uisge corruighthear an t-uisge. Tuitean an chloch go dti an tóin agus luidheann sí annsin, acht a bhfad tar éis a tuitime maireann gluasacht an uisge a'"
      ]
     },
     "execution_count": 44,
     "metadata": {},
     "output_type": "execute_result"
    }
   ],
   "source": [
    "texts20[0][:200]"
   ]
  },
  {
   "cell_type": "code",
   "execution_count": 45,
   "metadata": {},
   "outputs": [
    {
     "data": {
      "text/plain": [
       "988"
      ]
     },
     "execution_count": 45,
     "metadata": {},
     "output_type": "execute_result"
    }
   ],
   "source": [
    "all_texts = texts16 + texts17 + texts18 + texts19 + texts20\n",
    "len(all_texts)"
   ]
  },
  {
   "cell_type": "code",
   "execution_count": 46,
   "metadata": {},
   "outputs": [],
   "source": [
    "sents16 = []\n",
    "sents17 = []\n",
    "sents18 = []\n",
    "sents19 = []\n",
    "sents20 = []\n",
    "all_sents = []\n",
    "\n",
    "for text in texts16:\n",
    "    sents16 += split_sents(text)\n",
    "\n",
    "for text in texts17:\n",
    "    sents17 += split_sents(text)\n",
    "\n",
    "for text in texts18:\n",
    "    sents18 += split_sents(text)\n",
    "\n",
    "for text in texts19:\n",
    "    sents19 += split_sents(text)\n",
    "    \n",
    "for text in texts20:\n",
    "    sents20 += split_sents(text)\n",
    "\n",
    "for text in all_texts:\n",
    "    all_sents += split_sents(text)"
   ]
  },
  {
   "cell_type": "code",
   "execution_count": 47,
   "metadata": {},
   "outputs": [],
   "source": [
    "sents16 = [sent for sent in sents16 if len(sent)>1]\n",
    "sents17 = [sent for sent in sents17 if len(sent)>1]\n",
    "sents18 = [sent for sent in sents18 if len(sent)>1]\n",
    "sents19 = [sent for sent in sents19 if len(sent)>1]\n",
    "sents20 = [sent for sent in sents20 if len(sent)>1]\n",
    "all_sents = [sent for sent in all_sents if len(sent)>1]"
   ]
  },
  {
   "cell_type": "code",
   "execution_count": 49,
   "metadata": {},
   "outputs": [],
   "source": [
    "with open('csnag16.txt', 'w', encoding='utf-8') as f1, \\\n",
    "          open('csnag17.txt', 'w', encoding='utf-8') as f2, \\\n",
    "          open('csnag18.txt', 'w', encoding='utf-8') as f3, \\\n",
    "          open('csnag19.txt', 'w', encoding='utf-8') as f4, \\\n",
    "          open('csnag20.txt', 'w', encoding='utf-8') as f5, \\\n",
    "          open('csnag_all.txt', 'w', encoding='utf-8') as f6:\n",
    "    f1.write('\\n'.join(sents16))\n",
    "    f2.write('\\n'.join(sents17))\n",
    "    f3.write('\\n'.join(sents18))\n",
    "    f4.write('\\n'.join(sents19))\n",
    "    f5.write('\\n'.join(sents20))\n",
    "    f6.write('\\n'.join(all_sents))"
   ]
  },
  {
   "cell_type": "markdown",
   "metadata": {},
   "source": [
    "## Preprocessing after manual cleaning"
   ]
  },
  {
   "cell_type": "code",
   "execution_count": 52,
   "metadata": {},
   "outputs": [],
   "source": [
    "# cleaning done manually\n",
    "with open('./data/csnag16_clean.txt', 'r', encoding='utf-8') as f:\n",
    "    csnag16 = f.read().split('\\n')\n",
    "\n",
    "# cleaning done manually\n",
    "with open('./data/csnag17_clean.txt', 'r', encoding='utf-8') as f:\n",
    "    csnag17 = f.read().split('\\n')\n",
    "\n",
    "# cleaning done manually\n",
    "with open('./data/csnag18_clean.txt', 'r', encoding='utf-8') as f:\n",
    "    csnag18 = f.read().split('\\n')\n",
    "\n",
    "# cleaning done manually\n",
    "with open('./data/csnag19_clean.txt', 'r', encoding='utf-8') as f:\n",
    "    csnag19 = f.read().split('\\n')\n",
    "    \n",
    "# cleaning done manually\n",
    "with open('./data/csnag20_clean.txt', 'r', encoding='utf-8') as f:\n",
    "    csnag20 = f.read().split('\\n')\n",
    "\n",
    "# cleaning done manually\n",
    "with open('./data/csnag_all_clean.txt', 'r', encoding='utf-8') as f:\n",
    "    all_csnag = f.read().split('\\n')"
   ]
  },
  {
   "cell_type": "code",
   "execution_count": 53,
   "metadata": {},
   "outputs": [],
   "source": [
    "csnag16_sents, csnag16_words = preprocess(csnag16)\n",
    "csnag17_sents, csnag17_words = preprocess(csnag17)\n",
    "csnag18_sents, csnag18_words = preprocess(csnag18)\n",
    "csnag19_sents, csnag19_words = preprocess(csnag19)\n",
    "csnag20_sents, csnag20_words = preprocess(csnag20)\n",
    "all_csnag_sents, all_csnag_words = preprocess(all_csnag)"
   ]
  },
  {
   "cell_type": "markdown",
   "metadata": {},
   "source": [
    "### Statistics"
   ]
  },
  {
   "cell_type": "code",
   "execution_count": 54,
   "metadata": {},
   "outputs": [
    {
     "name": "stdout",
     "output_type": "stream",
     "text": [
      "26746\n",
      "3078133\n",
      "2026287\n",
      "2130151\n",
      "5706230\n",
      "12989041\n"
     ]
    }
   ],
   "source": [
    "print(len(csnag16_words))\n",
    "print(len(csnag17_words))\n",
    "print(len(csnag18_words))\n",
    "print(len(csnag19_words))\n",
    "print(len(csnag20_words))\n",
    "print(len(all_csnag_words))"
   ]
  },
  {
   "cell_type": "code",
   "execution_count": 59,
   "metadata": {},
   "outputs": [
    {
     "name": "stdout",
     "output_type": "stream",
     "text": [
      "8112\n",
      "252914\n",
      "176518\n",
      "165322\n",
      "205939\n",
      "596941\n"
     ]
    }
   ],
   "source": [
    "print(len(set(csnag16_words)))\n",
    "print(len(set(csnag17_words)))\n",
    "print(len(set(csnag18_words)))\n",
    "print(len(set(csnag19_words)))\n",
    "print(len(set(csnag20_words)))\n",
    "print(len(set(all_csnag_words)))"
   ]
  },
  {
   "cell_type": "code",
   "execution_count": 55,
   "metadata": {},
   "outputs": [
    {
     "name": "stdout",
     "output_type": "stream",
     "text": [
      "1910\n",
      "135814\n",
      "80117\n",
      "95119\n",
      "381645\n",
      "713422\n"
     ]
    }
   ],
   "source": [
    "print(len(csnag16_sents))\n",
    "print(len(csnag17_sents))\n",
    "print(len(csnag18_sents))\n",
    "print(len(csnag19_sents))\n",
    "print(len(csnag20_sents))\n",
    "print(len(all_csnag_sents))"
   ]
  },
  {
   "cell_type": "markdown",
   "metadata": {},
   "source": [
    "### Saving preprocessed texts"
   ]
  },
  {
   "cell_type": "code",
   "execution_count": 56,
   "metadata": {},
   "outputs": [],
   "source": [
    "with open('./data/csnag16_preprocessed.txt', 'w', encoding='utf-8') as f:\n",
    "    f.write('\\n'.join(csnag16_sents))\n",
    "        \n",
    "with open('./data/csnag17_preprocessed.txt', 'w', encoding='utf-8') as f:\n",
    "    f.write('\\n'.join(csnag17_sents))\n",
    "\n",
    "with open('./data/csnag18_preprocessed.txt', 'w', encoding='utf-8') as f:\n",
    "    f.write('\\n'.join(csnag18_sents))\n",
    "\n",
    "with open('./data/csnag19_preprocessed.txt', 'w', encoding='utf-8') as f:\n",
    "    f.write('\\n'.join(csnag19_sents))\n",
    "\n",
    "with open('./data/csnag20_preprocessed.txt', 'w', encoding='utf-8') as f:\n",
    "    f.write('\\n'.join(csnag20_sents))\n",
    "\n",
    "with open('./data/all_csnag_preprocessed.txt', 'w', encoding='utf-8') as f:\n",
    "    f.write('\\n'.join(all_csnag_sents))"
   ]
  },
  {
   "cell_type": "markdown",
   "metadata": {},
   "source": [
    "## Word counts"
   ]
  },
  {
   "cell_type": "code",
   "execution_count": 60,
   "metadata": {},
   "outputs": [],
   "source": [
    "csnag16_counts = Counter(csnag16_words)\n",
    "csnag17_counts = Counter(csnag17_words)\n",
    "csnag18_counts = Counter(csnag18_words)\n",
    "csnag19_counts = Counter(csnag19_words)\n",
    "csnag20_counts = Counter(csnag20_words)\n",
    "all_csnag_counts = Counter(all_csnag_words)"
   ]
  },
  {
   "cell_type": "code",
   "execution_count": 61,
   "metadata": {},
   "outputs": [
    {
     "name": "stdout",
     "output_type": "stream",
     "text": [
      "[('a', 1169), ('do', 860), ('ar', 644), ('an', 642), ('na', 571)]\n",
      "[('agus', 141193), ('do', 114685), ('an', 107268), ('a', 99815), ('na', 63057)]\n",
      "[('an', 74213), ('do', 67852), ('a', 65365), ('agus', 64208), ('na', 41169)]\n",
      "[('a', 87205), ('an', 84770), ('agus', 70430), ('do', 56604), ('na', 40992)]\n",
      "[('an', 265584), ('a', 218041), ('agus', 180481), ('ar', 136874), ('go', 104047)]\n",
      "[('an', 532286), ('a', 471442), ('agus', 456621), ('do', 339084), ('ar', 266486)]\n"
     ]
    }
   ],
   "source": [
    "print(csnag16_counts.most_common(5))\n",
    "print(csnag17_counts.most_common(5))\n",
    "print(csnag18_counts.most_common(5))\n",
    "print(csnag19_counts.most_common(5))\n",
    "print(csnag20_counts.most_common(5))\n",
    "print(all_csnag_counts.most_common(5))"
   ]
  },
  {
   "cell_type": "markdown",
   "metadata": {},
   "source": [
    "### Saving word counts"
   ]
  },
  {
   "cell_type": "code",
   "execution_count": 62,
   "metadata": {},
   "outputs": [],
   "source": [
    "# saving counts in json\n",
    "\n",
    "with open('./data/csnag16_counts.json', 'w', encoding='utf-8') as f:\n",
    "    json.dump(csnag16_counts, f)\n",
    "        \n",
    "with open('./data/csnag17_counts.json', 'w', encoding='utf-8') as f:\n",
    "    json.dump(csnag17_counts, f)\n",
    "\n",
    "with open('./data/csnag18_counts.json', 'w', encoding='utf-8') as f:\n",
    "    json.dump(csnag18_counts, f)\n",
    "\n",
    "with open('./data/csnag19_counts.json', 'w', encoding='utf-8') as f:\n",
    "    json.dump(csnag19_counts, f)\n",
    "\n",
    "with open('./data/csnag20_counts.json', 'w', encoding='utf-8') as f:\n",
    "    json.dump(csnag20_counts, f)\n",
    "\n",
    "with open('./data/all_csnag_counts.json', 'w', encoding='utf-8') as f:\n",
    "    json.dump(all_csnag_counts, f)"
   ]
  },
  {
   "cell_type": "code",
   "execution_count": 63,
   "metadata": {},
   "outputs": [],
   "source": [
    "# saving counts in plaintext\n",
    "\n",
    "with open('./data/csnag16_wordlist.txt', 'w', encoding='utf-8') as f:\n",
    "    for pair in csnag16_counts.most_common():\n",
    "        f.write('%s %s\\n' % (pair[0], pair[1]))\n",
    "        \n",
    "with open('./data/csnag17_wordlist.txt', 'w', encoding='utf-8') as f:\n",
    "    for pair in csnag17_counts.most_common():\n",
    "        f.write('%s %s\\n' % (pair[0], pair[1]))\n",
    "\n",
    "with open('./data/csnag18_wordlist.txt', 'w', encoding='utf-8') as f:\n",
    "    for pair in csnag18_counts.most_common():\n",
    "        f.write('%s %s\\n' % (pair[0], pair[1]))\n",
    "\n",
    "with open('./data/csnag19_wordlist.txt', 'w', encoding='utf-8') as f:\n",
    "    for pair in csnag19_counts.most_common():\n",
    "        f.write('%s %s\\n' % (pair[0], pair[1]))\n",
    "\n",
    "with open('./data/csnag20_wordlist.txt', 'w', encoding='utf-8') as f:\n",
    "    for pair in csnag20_counts.most_common():\n",
    "        f.write('%s %s\\n' % (pair[0], pair[1]))\n",
    "\n",
    "with open('./data/all_csnag_wordlist.txt', 'w', encoding='utf-8') as f:\n",
    "    for pair in all_csnag_counts.most_common():\n",
    "        f.write('%s %s\\n' % (pair[0], pair[1]))"
   ]
  },
  {
   "cell_type": "markdown",
   "metadata": {},
   "source": [
    "## Getting rid of undated texts and sorting by year"
   ]
  },
  {
   "cell_type": "code",
   "execution_count": 69,
   "metadata": {},
   "outputs": [
    {
     "data": {
      "text/plain": [
       "csg_id        int64\n",
       "title        object\n",
       "author       object\n",
       "pen_name     object\n",
       "editor       object\n",
       "year          int64\n",
       "century      object\n",
       "genre        object\n",
       "publisher    object\n",
       "link         object\n",
       "text         object\n",
       "tokens        int64\n",
       "types         int64\n",
       "dtype: object"
      ]
     },
     "execution_count": 69,
     "metadata": {},
     "output_type": "execute_result"
    }
   ],
   "source": [
    "dated = data.drop(data[data['year'] == '–'].index)\n",
    "dated.astype({'year': 'int64'}).dtypes"
   ]
  },
  {
   "cell_type": "code",
   "execution_count": 70,
   "metadata": {},
   "outputs": [
    {
     "data": {
      "text/html": [
       "<div>\n",
       "<style scoped>\n",
       "    .dataframe tbody tr th:only-of-type {\n",
       "        vertical-align: middle;\n",
       "    }\n",
       "\n",
       "    .dataframe tbody tr th {\n",
       "        vertical-align: top;\n",
       "    }\n",
       "\n",
       "    .dataframe thead th {\n",
       "        text-align: right;\n",
       "    }\n",
       "</style>\n",
       "<table border=\"1\" class=\"dataframe\">\n",
       "  <thead>\n",
       "    <tr style=\"text-align: right;\">\n",
       "      <th></th>\n",
       "      <th>csg_id</th>\n",
       "      <th>title</th>\n",
       "      <th>author</th>\n",
       "      <th>pen_name</th>\n",
       "      <th>editor</th>\n",
       "      <th>year</th>\n",
       "      <th>century</th>\n",
       "      <th>genre</th>\n",
       "      <th>publisher</th>\n",
       "      <th>link</th>\n",
       "      <th>text</th>\n",
       "      <th>tokens</th>\n",
       "      <th>types</th>\n",
       "    </tr>\n",
       "  </thead>\n",
       "  <tbody>\n",
       "    <tr>\n",
       "      <th>112</th>\n",
       "      <td>2493</td>\n",
       "      <td>Book of O'Hara</td>\n",
       "      <td>–</td>\n",
       "      <td>–</td>\n",
       "      <td>McKenna, Lambert</td>\n",
       "      <td>1581</td>\n",
       "      <td>16</td>\n",
       "      <td>poetry</td>\n",
       "      <td>(B.Á.C.: I.A.B., 1951)</td>\n",
       "      <td>http://corpas.ria.ie/index.php?fsg_function=5&amp;...</td>\n",
       "      <td>VIII Táinig san chluiche ag Cormac, gég nach u...</td>\n",
       "      <td>6313</td>\n",
       "      <td>2692</td>\n",
       "    </tr>\n",
       "    <tr>\n",
       "      <th>716</th>\n",
       "      <td>498</td>\n",
       "      <td>Rudimenta Physionomae</td>\n",
       "      <td>–</td>\n",
       "      <td>–</td>\n",
       "      <td>Mac Niocaill, G.</td>\n",
       "      <td>1583</td>\n",
       "      <td>16</td>\n",
       "      <td>prose</td>\n",
       "      <td>(B.Á.C.: I.A.B., 1963)</td>\n",
       "      <td>http://corpas.ria.ie/index.php?fsg_function=5&amp;...</td>\n",
       "      <td>Dá raibh gné ghlass nó bhuidhe ar neach is com...</td>\n",
       "      <td>1232</td>\n",
       "      <td>436</td>\n",
       "    </tr>\n",
       "    <tr>\n",
       "      <th>434</th>\n",
       "      <td>483</td>\n",
       "      <td>Flaithrí Ó Maolchonaire's Catechism of Christi...</td>\n",
       "      <td>Ó Maolchonaire, Flaithrí</td>\n",
       "      <td>–</td>\n",
       "      <td>Ó Cuív, Brian</td>\n",
       "      <td>1593</td>\n",
       "      <td>16</td>\n",
       "      <td>prose</td>\n",
       "      <td>(B.Á.C.: I.A.B., 1950)</td>\n",
       "      <td>http://corpas.ria.ie/index.php?fsg_function=5&amp;...</td>\n",
       "      <td>{N Celt01 161-206} {L 162} {B 1593 &lt;17} {U 008...</td>\n",
       "      <td>9876</td>\n",
       "      <td>2249</td>\n",
       "    </tr>\n",
       "    <tr>\n",
       "      <th>531</th>\n",
       "      <td>2520</td>\n",
       "      <td>Leabhar Branach</td>\n",
       "      <td>–</td>\n",
       "      <td>–</td>\n",
       "      <td>Mac Airt, Seán</td>\n",
       "      <td>1594</td>\n",
       "      <td>16</td>\n",
       "      <td>poetry</td>\n",
       "      <td>(B.Á.C.: I.A.B., 1944)</td>\n",
       "      <td>http://corpas.ria.ie/index.php?fsg_function=5&amp;...</td>\n",
       "      <td>AONGHUS DUBH Ó DÁLAIGH CC. Scél tásgmhar do rá...</td>\n",
       "      <td>14115</td>\n",
       "      <td>4866</td>\n",
       "    </tr>\n",
       "    <tr>\n",
       "      <th>349</th>\n",
       "      <td>2549</td>\n",
       "      <td>Duanaire Gaedhilge II</td>\n",
       "      <td>–</td>\n",
       "      <td>–</td>\n",
       "      <td>Ní Ógáin, Róis</td>\n",
       "      <td>1600</td>\n",
       "      <td>17</td>\n",
       "      <td>poetry</td>\n",
       "      <td>(B.Á.C.: C.O.É., 1924)</td>\n",
       "      <td>http://corpas.ria.ie/index.php?fsg_function=5&amp;...</td>\n",
       "      <td>Ciamhair cráidhte an croidhese; An croidhese c...</td>\n",
       "      <td>287</td>\n",
       "      <td>170</td>\n",
       "    </tr>\n",
       "  </tbody>\n",
       "</table>\n",
       "</div>"
      ],
      "text/plain": [
       "     csg_id                                              title  \\\n",
       "112    2493                                     Book of O'Hara   \n",
       "716     498                              Rudimenta Physionomae   \n",
       "434     483  Flaithrí Ó Maolchonaire's Catechism of Christi...   \n",
       "531    2520                                    Leabhar Branach   \n",
       "349    2549                              Duanaire Gaedhilge II   \n",
       "\n",
       "                       author pen_name            editor  year century  \\\n",
       "112                         –        –  McKenna, Lambert  1581      16   \n",
       "716                         –        –  Mac Niocaill, G.  1583      16   \n",
       "434  Ó Maolchonaire, Flaithrí        –     Ó Cuív, Brian  1593      16   \n",
       "531                         –        –    Mac Airt, Seán  1594      16   \n",
       "349                         –        –    Ní Ógáin, Róis  1600      17   \n",
       "\n",
       "      genre               publisher  \\\n",
       "112  poetry  (B.Á.C.: I.A.B., 1951)   \n",
       "716   prose  (B.Á.C.: I.A.B., 1963)   \n",
       "434   prose  (B.Á.C.: I.A.B., 1950)   \n",
       "531  poetry  (B.Á.C.: I.A.B., 1944)   \n",
       "349  poetry  (B.Á.C.: C.O.É., 1924)   \n",
       "\n",
       "                                                  link  \\\n",
       "112  http://corpas.ria.ie/index.php?fsg_function=5&...   \n",
       "716  http://corpas.ria.ie/index.php?fsg_function=5&...   \n",
       "434  http://corpas.ria.ie/index.php?fsg_function=5&...   \n",
       "531  http://corpas.ria.ie/index.php?fsg_function=5&...   \n",
       "349  http://corpas.ria.ie/index.php?fsg_function=5&...   \n",
       "\n",
       "                                                  text  tokens  types  \n",
       "112  VIII Táinig san chluiche ag Cormac, gég nach u...    6313   2692  \n",
       "716  Dá raibh gné ghlass nó bhuidhe ar neach is com...    1232    436  \n",
       "434  {N Celt01 161-206} {L 162} {B 1593 <17} {U 008...    9876   2249  \n",
       "531  AONGHUS DUBH Ó DÁLAIGH CC. Scél tásgmhar do rá...   14115   4866  \n",
       "349  Ciamhair cráidhte an croidhese; An croidhese c...     287    170  "
      ]
     },
     "execution_count": 70,
     "metadata": {},
     "output_type": "execute_result"
    }
   ],
   "source": [
    "dated.sort_values('year', inplace=True)\n",
    "dated.head()"
   ]
  },
  {
   "cell_type": "code",
   "execution_count": 71,
   "metadata": {},
   "outputs": [
    {
     "data": {
      "text/html": [
       "<div>\n",
       "<style scoped>\n",
       "    .dataframe tbody tr th:only-of-type {\n",
       "        vertical-align: middle;\n",
       "    }\n",
       "\n",
       "    .dataframe tbody tr th {\n",
       "        vertical-align: top;\n",
       "    }\n",
       "\n",
       "    .dataframe thead th {\n",
       "        text-align: right;\n",
       "    }\n",
       "</style>\n",
       "<table border=\"1\" class=\"dataframe\">\n",
       "  <thead>\n",
       "    <tr style=\"text-align: right;\">\n",
       "      <th></th>\n",
       "      <th>csg_id</th>\n",
       "      <th>title</th>\n",
       "      <th>author</th>\n",
       "      <th>pen_name</th>\n",
       "      <th>editor</th>\n",
       "      <th>year</th>\n",
       "      <th>century</th>\n",
       "      <th>genre</th>\n",
       "      <th>publisher</th>\n",
       "      <th>link</th>\n",
       "      <th>text</th>\n",
       "      <th>tokens</th>\n",
       "      <th>types</th>\n",
       "    </tr>\n",
       "  </thead>\n",
       "  <tbody>\n",
       "    <tr>\n",
       "      <th>777</th>\n",
       "      <td>3163</td>\n",
       "      <td>Seanfhocail na Muimhneach</td>\n",
       "      <td>Ó Siochfhradha, Pádraig</td>\n",
       "      <td>Seabhac, An</td>\n",
       "      <td>An Seanbhao</td>\n",
       "      <td>1926</td>\n",
       "      <td>20</td>\n",
       "      <td>prose</td>\n",
       "      <td>Comhlucht Oideachais na hÉireann</td>\n",
       "      <td>http://corpas.ria.ie/index.php?fsg_function=5&amp;...</td>\n",
       "      <td>SEANFHOCAIL NA MUIMHNEACH \"AN SEABHAC\" Do bhai...</td>\n",
       "      <td>53987</td>\n",
       "      <td>10093</td>\n",
       "    </tr>\n",
       "    <tr>\n",
       "      <th>423</th>\n",
       "      <td>3055</td>\n",
       "      <td>Filí gan Iomrádh</td>\n",
       "      <td>Mac Grianna, Seosamh</td>\n",
       "      <td>Iolann Fionn</td>\n",
       "      <td>–</td>\n",
       "      <td>1926</td>\n",
       "      <td>20</td>\n",
       "      <td>prose</td>\n",
       "      <td>Ultach, An t-</td>\n",
       "      <td>http://corpas.ria.ie/index.php?fsg_function=5&amp;...</td>\n",
       "      <td>I. Is fada an lá sgoláirí ag obair go dicheall...</td>\n",
       "      <td>10483</td>\n",
       "      <td>2620</td>\n",
       "    </tr>\n",
       "    <tr>\n",
       "      <th>883</th>\n",
       "      <td>2634</td>\n",
       "      <td>An Troid agus an t-Uaigneas</td>\n",
       "      <td>Ó Beirn, Liam, An tAthair</td>\n",
       "      <td>Beirneach, An</td>\n",
       "      <td>–</td>\n",
       "      <td>1926</td>\n",
       "      <td>20</td>\n",
       "      <td>prose</td>\n",
       "      <td>Mac Ghuill, M.H. agus a Mhac, Teó</td>\n",
       "      <td>http://corpas.ria.ie/index.php?fsg_function=5&amp;...</td>\n",
       "      <td>AN TROID AGUS AN t-UAIGNEAS LEAN DO'N tSOLUS F...</td>\n",
       "      <td>15639</td>\n",
       "      <td>3533</td>\n",
       "    </tr>\n",
       "    <tr>\n",
       "      <th>670</th>\n",
       "      <td>2903</td>\n",
       "      <td>Papers on Irish Idiom</td>\n",
       "      <td>O'Leary, Peter Canon</td>\n",
       "      <td>–</td>\n",
       "      <td>O'Rahilly, Thomas F.</td>\n",
       "      <td>1926</td>\n",
       "      <td>20</td>\n",
       "      <td>prose</td>\n",
       "      <td>Browne and Nolan Limited</td>\n",
       "      <td>http://corpas.ria.ie/index.php?fsg_function=5&amp;...</td>\n",
       "      <td>Is ainmhí bó. Is fear é. Fear isea é. Isé é. I...</td>\n",
       "      <td>22987</td>\n",
       "      <td>3359</td>\n",
       "    </tr>\n",
       "    <tr>\n",
       "      <th>626</th>\n",
       "      <td>2815</td>\n",
       "      <td>Notes on Irish Words and Usages</td>\n",
       "      <td>Ó Laoghaire, Peadar, An t-Ath.</td>\n",
       "      <td>–</td>\n",
       "      <td>–</td>\n",
       "      <td>1926</td>\n",
       "      <td>20</td>\n",
       "      <td>prose</td>\n",
       "      <td>Browne and Nolan Limited</td>\n",
       "      <td>http://corpas.ria.ie/index.php?fsg_function=5&amp;...</td>\n",
       "      <td>NOTES ON IRISH WORDS AND USAGES BY AN T-ATHAIR...</td>\n",
       "      <td>52986</td>\n",
       "      <td>8527</td>\n",
       "    </tr>\n",
       "  </tbody>\n",
       "</table>\n",
       "</div>"
      ],
      "text/plain": [
       "     csg_id                            title                          author  \\\n",
       "777    3163        Seanfhocail na Muimhneach         Ó Siochfhradha, Pádraig   \n",
       "423    3055                 Filí gan Iomrádh            Mac Grianna, Seosamh   \n",
       "883    2634      An Troid agus an t-Uaigneas       Ó Beirn, Liam, An tAthair   \n",
       "670    2903            Papers on Irish Idiom            O'Leary, Peter Canon   \n",
       "626    2815  Notes on Irish Words and Usages  Ó Laoghaire, Peadar, An t-Ath.   \n",
       "\n",
       "          pen_name                editor  year century  genre  \\\n",
       "777    Seabhac, An           An Seanbhao  1926      20  prose   \n",
       "423   Iolann Fionn                     –  1926      20  prose   \n",
       "883  Beirneach, An                     –  1926      20  prose   \n",
       "670              –  O'Rahilly, Thomas F.  1926      20  prose   \n",
       "626              –                     –  1926      20  prose   \n",
       "\n",
       "                             publisher  \\\n",
       "777   Comhlucht Oideachais na hÉireann   \n",
       "423                      Ultach, An t-   \n",
       "883  Mac Ghuill, M.H. agus a Mhac, Teó   \n",
       "670           Browne and Nolan Limited   \n",
       "626           Browne and Nolan Limited   \n",
       "\n",
       "                                                  link  \\\n",
       "777  http://corpas.ria.ie/index.php?fsg_function=5&...   \n",
       "423  http://corpas.ria.ie/index.php?fsg_function=5&...   \n",
       "883  http://corpas.ria.ie/index.php?fsg_function=5&...   \n",
       "670  http://corpas.ria.ie/index.php?fsg_function=5&...   \n",
       "626  http://corpas.ria.ie/index.php?fsg_function=5&...   \n",
       "\n",
       "                                                  text  tokens  types  \n",
       "777  SEANFHOCAIL NA MUIMHNEACH \"AN SEABHAC\" Do bhai...   53987  10093  \n",
       "423  I. Is fada an lá sgoláirí ag obair go dicheall...   10483   2620  \n",
       "883  AN TROID AGUS AN t-UAIGNEAS LEAN DO'N tSOLUS F...   15639   3533  \n",
       "670  Is ainmhí bó. Is fear é. Fear isea é. Isé é. I...   22987   3359  \n",
       "626  NOTES ON IRISH WORDS AND USAGES BY AN T-ATHAIR...   52986   8527  "
      ]
     },
     "execution_count": 71,
     "metadata": {},
     "output_type": "execute_result"
    }
   ],
   "source": [
    "dated.tail()"
   ]
  },
  {
   "cell_type": "code",
   "execution_count": 72,
   "metadata": {},
   "outputs": [],
   "source": [
    "dated.to_csv(\"./data/csg_books_sorted_by_year.tsv\", sep=\"\\t\", encoding=\"utf-8\", index=False)"
   ]
  },
  {
   "cell_type": "markdown",
   "metadata": {},
   "source": [
    "## Even splits\n",
    "\n",
    "10 parts, ~99 texts each, continuous split regardless of time"
   ]
  },
  {
   "cell_type": "code",
   "execution_count": 75,
   "metadata": {},
   "outputs": [],
   "source": [
    "def split_list(lst, n):\n",
    "    \"\"\"Yield successive n-sized chunks from lst.\"\"\"\n",
    "    for i in range(0, len(lst), n):\n",
    "        yield lst[i:i + n]"
   ]
  },
  {
   "cell_type": "code",
   "execution_count": 80,
   "metadata": {},
   "outputs": [],
   "source": [
    "chunks = split_list(list(dated[\"text\"]), 99)\n",
    "\n",
    "for i, c in enumerate(chunks):\n",
    "    sents = []\n",
    "    for text in c:\n",
    "        sents += split_sents(text)\n",
    "    sents = [sent for sent in sents if len(sent)>1]\n",
    "    with open(\"./data/corpora/csnag_%s.txt\" % i, \"w\", encoding=\"utf-8\") as f:\n",
    "        f.write(\"\\n\".join(sents))"
   ]
  },
  {
   "cell_type": "code",
   "execution_count": 81,
   "metadata": {},
   "outputs": [
    {
     "name": "stdout",
     "output_type": "stream",
     "text": [
      "Part 0\n",
      "Start: 1581.0\n",
      "End: 1640.0\n",
      "Part 1\n",
      "Start: 1640.0\n",
      "End: 1690.0\n",
      "Part 2\n",
      "Start: 1691.0\n",
      "End: 1728.0\n",
      "Part 3\n",
      "Start: 1729.0\n",
      "End: 1771.0\n",
      "Part 4\n",
      "Start: 1771.0\n",
      "End: 1817.0\n",
      "Part 5\n",
      "Start: 1817.0\n",
      "End: 1836.0\n",
      "Part 6\n",
      "Start: 1836.0\n",
      "End: 1875.0\n",
      "Part 7\n",
      "Start: 1876.0\n",
      "End: 1908.0\n",
      "Part 8\n",
      "Start: 1908.0\n",
      "End: 1919.0\n",
      "Part 9\n",
      "Start: 1919.0\n",
      "End: 1926.0\n"
     ]
    }
   ],
   "source": [
    "chunks_year = split_list(list(dated[\"year\"]), 99)\n",
    "\n",
    "for i, c in enumerate(chunks_year):\n",
    "    print(\"Part %s\" % i)\n",
    "    print(\"Start: %s\" % c[0])\n",
    "    print(\"End: %s\" % c[-1])"
   ]
  },
  {
   "cell_type": "code",
   "execution_count": 83,
   "metadata": {},
   "outputs": [
    {
     "name": "stdout",
     "output_type": "stream",
     "text": [
      "Part 0\n",
      "Tokens: 1824106\n",
      "Part 1\n",
      "Tokens: 1701390\n",
      "Part 2\n",
      "Tokens: 853931\n",
      "Part 3\n",
      "Tokens: 976147\n",
      "Part 4\n",
      "Tokens: 751839\n",
      "Part 5\n",
      "Tokens: 1217419\n",
      "Part 6\n",
      "Tokens: 701187\n",
      "Part 7\n",
      "Tokens: 1777732\n",
      "Part 8\n",
      "Tokens: 2551903\n",
      "Part 9\n",
      "Tokens: 2754762\n"
     ]
    }
   ],
   "source": [
    "chunks_tokens = split_list(list(dated[\"tokens\"]), 99)\n",
    "\n",
    "for i, c in enumerate(chunks_tokens):\n",
    "    print(\"Part %s\" % i)\n",
    "    print(\"Tokens: %s\" % sum(c))"
   ]
  },
  {
   "cell_type": "code",
   "execution_count": 84,
   "metadata": {},
   "outputs": [
    {
     "name": "stdout",
     "output_type": "stream",
     "text": [
      "Part 0\n",
      "Tokens: 327616\n",
      "Part 1\n",
      "Tokens: 286320\n",
      "Part 2\n",
      "Tokens: 190175\n",
      "Part 3\n",
      "Tokens: 214226\n",
      "Part 4\n",
      "Tokens: 190916\n",
      "Part 5\n",
      "Tokens: 235074\n",
      "Part 6\n",
      "Tokens: 126760\n",
      "Part 7\n",
      "Tokens: 290801\n",
      "Part 8\n",
      "Tokens: 350689\n",
      "Part 9\n",
      "Tokens: 394039\n"
     ]
    }
   ],
   "source": [
    "chunks_types = split_list(list(dated[\"types\"]), 99)\n",
    "\n",
    "for i, c in enumerate(chunks_types):\n",
    "    print(\"Part %s\" % i)\n",
    "    print(\"Types: %s\" % sum(c))"
   ]
  },
  {
   "cell_type": "markdown",
   "metadata": {},
   "source": [
    "### Preprocessing after manual cleaning"
   ]
  },
  {
   "cell_type": "code",
   "execution_count": 89,
   "metadata": {},
   "outputs": [
    {
     "name": "stdout",
     "output_type": "stream",
     "text": [
      "Tokens: 1599808\n",
      "Types: 155956\n",
      "Sentencess: 69774\n",
      "Most common words: [('do', 61289), ('agus', 59355), ('an', 52479), ('a', 46232), ('na', 30852), ('ar', 30513), ('go', 18029), ('mac', 14446), ('i', 13443), ('is', 13438)]\n",
      "\n",
      "Tokens: 610031\n",
      "Types: 60876\n",
      "Sentencess: 24661\n",
      "Most common words: [('a', 36829), ('agus', 23902), ('an', 22456), ('do', 13507), ('na', 12032), ('go', 12015), ('ar', 8929), ('is', 7329), ('air', 6743), ('le', 5614)]\n",
      "\n",
      "Tokens: 1461687\n",
      "Types: 140078\n",
      "Sentencess: 62657\n",
      "Most common words: [('agus', 80101), ('a', 53613), ('an', 53394), ('do', 52826), ('na', 31528), ('ar', 26368), ('go', 21613), ('is', 11733), ('sin', 11185), ('ní', 10280)]\n",
      "\n",
      "Tokens: 1473547\n",
      "Types: 86711\n",
      "Sentencess: 89029\n",
      "Most common words: [('an', 69880), ('a', 48967), ('agus', 42825), ('ar', 32313), ('do', 27971), ('go', 27555), ('na', 24547), ('sé', 22652), ('ag', 19781), ('i', 18573)]\n",
      "\n",
      "Tokens: 748394\n",
      "Types: 83053\n",
      "Sentencess: 27018\n",
      "Most common words: [('agus', 28940), ('do', 27726), ('an', 26711), ('a', 23392), ('ar', 16088), ('na', 14234), ('go', 12729), ('is', 11181), ('sin', 8970), ('i', 6914)]\n",
      "\n",
      "Tokens: 663930\n",
      "Types: 81639\n",
      "Sentencess: 24970\n",
      "Most common words: [('an', 22551), ('a', 20590), ('do', 19887), ('agus', 15019), ('is', 14595), ('na', 13456), ('ar', 12658), ('go', 12132), ('i', 7621), ('le', 6943)]\n",
      "\n",
      "Tokens: 2329472\n",
      "Types: 114829\n",
      "Sentencess: 150276\n",
      "Most common words: [('an', 108511), ('a', 90693), ('agus', 70832), ('ar', 55769), ('na', 40629), ('go', 40518), ('do', 39534), ('ag', 31776), ('i', 30504), ('sé', 29389)]\n",
      "\n",
      "Tokens: 842850\n",
      "Types: 92538\n",
      "Sentencess: 32788\n",
      "Most common words: [('an', 33313), ('a', 28635), ('do', 26928), ('agus', 26531), ('na', 18318), ('go', 14887), ('is', 14792), ('ar', 12377), ('air', 8418), ('sin', 7402)]\n",
      "\n",
      "Tokens: 1047005\n",
      "Types: 101835\n",
      "Sentencess: 47048\n",
      "Most common words: [('an', 42048), ('a', 36824), ('do', 30771), ('agus', 29766), ('na', 20722), ('go', 19066), ('is', 18978), ('ar', 17736), ('le', 11104), ('ag', 10210)]\n",
      "\n",
      "Tokens: 2175756\n",
      "Types: 94533\n",
      "Sentencess: 119187\n",
      "Most common words: [('an', 101895), ('a', 86398), ('agus', 80400), ('ar', 53961), ('go', 41836), ('do', 39089), ('na', 36018), ('sé', 30303), ('ag', 29612), ('i', 28551)]\n",
      "\n"
     ]
    }
   ],
   "source": [
    "for root, dirs, files in os.walk(\"./data/corpora/10/clean/\"):\n",
    "    for file in files:\n",
    "        with open(os.path.join(root, file), 'r', encoding='utf-8') as f:\n",
    "            csnag_part = f.read().split('\\n')\n",
    "        csnag_part_sents, csnag_part_words = preprocess(csnag_part)\n",
    "        print(\"Tokens: %s\" % len(csnag_part_words))\n",
    "        print(\"Types: %s\" % len(set(csnag_part_words)))\n",
    "        print(\"Sentencess: %s\" % len(csnag_part_sents))\n",
    "        \n",
    "        ### Saving preprocessed texts\n",
    "        with open(file.replace(\"clean.txt\", \"preprocessed.txt\"), 'w', encoding='utf-8') as f:\n",
    "            f.write('\\n'.join(csnag_part_sents))\n",
    "            \n",
    "        ## Word counts\n",
    "        csnag_part_counts = Counter(csnag_part_words)\n",
    "        print(\"Most common words: %s\" % csnag_part_counts.most_common(10), end=\"\\n\\n\")\n",
    "        \n",
    "        # saving counts in json\n",
    "        with open(file.replace(\"clean.txt\", \"counts.json\"), 'w', encoding='utf-8') as f:\n",
    "            json.dump(csnag_part_counts, f)\n",
    "            \n",
    "        # saving counts in plaintext\n",
    "        with open(file.replace(\"clean.txt\", \"wordlist.txt\"), 'w', encoding='utf-8') as f:\n",
    "            for pair in csnag_part_counts.most_common():\n",
    "                f.write('%s %s\\n' % (pair[0], pair[1]))"
   ]
  },
  {
   "cell_type": "code",
   "execution_count": null,
   "metadata": {},
   "outputs": [],
   "source": []
  }
 ],
 "metadata": {
  "kernelspec": {
   "display_name": "Python 3",
   "language": "python",
   "name": "python3"
  },
  "language_info": {
   "codemirror_mode": {
    "name": "ipython",
    "version": 3
   },
   "file_extension": ".py",
   "mimetype": "text/x-python",
   "name": "python",
   "nbconvert_exporter": "python",
   "pygments_lexer": "ipython3",
   "version": "3.7.7"
  }
 },
 "nbformat": 4,
 "nbformat_minor": 4
}
