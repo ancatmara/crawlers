{
 "cells": [
  {
   "cell_type": "markdown",
   "metadata": {},
   "source": [
    "# Evaluating Semantics"
   ]
  },
  {
   "cell_type": "code",
   "execution_count": 1,
   "metadata": {},
   "outputs": [],
   "source": [
    "import os\n",
    "import json\n",
    "import nltk\n",
    "import pandas as pd\n",
    "from collections import Counter\n",
    "from nltk.corpus import wordnet\n",
    "from collections import Counter\n",
    "from nltk import WordNetLemmatizer"
   ]
  },
  {
   "cell_type": "code",
   "execution_count": 54,
   "metadata": {},
   "outputs": [
    {
     "name": "stderr",
     "output_type": "stream",
     "text": [
      "[nltk_data] Downloading package wordnet to /Users/oksder/nltk_data...\n",
      "[nltk_data]   Package wordnet is already up-to-date!\n"
     ]
    },
    {
     "data": {
      "text/plain": [
       "True"
      ]
     },
     "execution_count": 54,
     "metadata": {},
     "output_type": "execute_result"
    }
   ],
   "source": [
    "nltk.download('wordnet')"
   ]
  },
  {
   "cell_type": "markdown",
   "metadata": {},
   "source": [
    "## Corpus stats"
   ]
  },
  {
   "cell_type": "code",
   "execution_count": 55,
   "metadata": {},
   "outputs": [],
   "source": [
    "corpus = ''\n",
    "for root, dirs, files in os.walk(\"/Users/oksder/Dropbox/Библиотека/NUIG/Corpora/Irish\"):\n",
    "    for file in files:\n",
    "        if file.endswith(\".txt\"):\n",
    "            with open(os.path.join(root, file), 'r', encoding='utf-8') as f:\n",
    "                corpus += f.read()\n",
    "                \n",
    "cleaned_corpus = [w.strip(\",.1?`'\\n-;:\") for w in corpus.lower().split()]\n",
    "cleaned_corpus = [w for w in cleaned_corpus if len(w) > 3]"
   ]
  },
  {
   "cell_type": "code",
   "execution_count": 56,
   "metadata": {},
   "outputs": [
    {
     "data": {
      "text/plain": [
       "[('agus', 19911),\n",
       " ('ocus', 9341),\n",
       " ('meic', 8629),\n",
       " ('isin', 8196),\n",
       " ('acht', 7916),\n",
       " ('gach', 6686),\n",
       " ('nach', 5565),\n",
       " ('cath', 4890),\n",
       " ('féin', 4698),\n",
       " ('cach', 4674),\n",
       " ('uile', 4112),\n",
       " ('maith', 3999),\n",
       " ('leis', 3963),\n",
       " ('uair', 3888),\n",
       " ('fein', 3394),\n",
       " ('dano', 3156),\n",
       " ('cona', 3135),\n",
       " ('ingen', 2899),\n",
       " ('marbad', 2760),\n",
       " ('ainm', 2709),\n",
       " (\"d'écc\", 2569),\n",
       " ('fair', 2507),\n",
       " ('briain', 2392),\n",
       " ('lucht', 2352),\n",
       " ('connacht', 2333),\n",
       " ('cech', 2255),\n",
       " ('marbhadh', 2252),\n",
       " ('beith', 2241),\n",
       " ('mharbhadh', 2168),\n",
       " ('lais', 2149),\n",
       " ('domhnaill', 2137),\n",
       " ('find', 2088),\n",
       " ('fris', 2084),\n",
       " ('righ', 2027),\n",
       " ('neill', 1983),\n",
       " ('dona', 1931),\n",
       " ('gurab', 1915),\n",
       " ('chulaind', 1901),\n",
       " ('h-ua', 1871),\n",
       " ('loch', 1848),\n",
       " ('fuil', 1835),\n",
       " ('dara', 1835),\n",
       " ('ed-ón', 1827),\n",
       " ('conchobair', 1823),\n",
       " ('rígh', 1793),\n",
       " ('immorro', 1782),\n",
       " ('iarum', 1777),\n",
       " ('domnaill', 1748),\n",
       " ('cend', 1746),\n",
       " ('duine', 1736),\n",
       " ('éireann', 1723),\n",
       " ('cormac', 1699),\n",
       " ('arna', 1683),\n",
       " ('gilla', 1673),\n",
       " ('fria', 1672),\n",
       " ('catha', 1660),\n",
       " ('bheith', 1653),\n",
       " ('maic', 1647),\n",
       " ('néill', 1642),\n",
       " ('secht', 1639),\n",
       " ('conid', 1630),\n",
       " ('leith', 1628),\n",
       " ('maille', 1622),\n",
       " ('linn', 1619),\n",
       " ('dóib', 1609),\n",
       " ('ailill', 1587),\n",
       " ('fuair', 1581),\n",
       " ('aodh', 1580),\n",
       " ('cille', 1580),\n",
       " ('adeir', 1555),\n",
       " ('annsin', 1552),\n",
       " ('amal', 1550),\n",
       " ('nech', 1540),\n",
       " ('annal', 1536),\n",
       " ('domnall', 1532),\n",
       " ('aois', 1527),\n",
       " ('adubairt', 1521),\n",
       " ('fergus', 1502),\n",
       " ('leth', 1490),\n",
       " ('dochum', 1471),\n",
       " ('muir', 1468),\n",
       " ('clann', 1466),\n",
       " ('fear', 1460),\n",
       " ('brian', 1460),\n",
       " ('soin', 1456),\n",
       " ('mael', 1452),\n",
       " ('cenn', 1421),\n",
       " ('iarla', 1417),\n",
       " ('cathail', 1416),\n",
       " ('amach', 1415),\n",
       " ('conaill', 1414),\n",
       " ('oile', 1411),\n",
       " ('ruairc', 1402),\n",
       " ('finn', 1390),\n",
       " ('macha', 1368),\n",
       " ('doib', 1354),\n",
       " ('ferr', 1348),\n",
       " ('cách', 1345),\n",
       " ('uilliam', 1344),\n",
       " ('raibhe', 1333),\n",
       " ('ulad', 1329),\n",
       " ('conall', 1312),\n",
       " ('duit', 1311),\n",
       " ('muman', 1308),\n",
       " ('aodha', 1296),\n",
       " ('eter', 1295),\n",
       " ('fora', 1289),\n",
       " ('maol', 1287),\n",
       " ('uili', 1273),\n",
       " ('amail', 1262),\n",
       " ('chur', 1257),\n",
       " ('marbadh', 1255),\n",
       " ('ghabh', 1254),\n",
       " ('sain', 1252),\n",
       " ('muintir', 1250),\n",
       " ('tighearna', 1239),\n",
       " ('cind', 1233),\n",
       " ('niall', 1230),\n",
       " ('budh', 1216),\n",
       " ('chum', 1211),\n",
       " ('tigherna', 1207),\n",
       " ('doibh', 1204),\n",
       " ('etir', 1198),\n",
       " ('réir', 1176),\n",
       " ('aile', 1162),\n",
       " ('tria', 1141),\n",
       " ('mhac', 1139),\n",
       " ('tech', 1139),\n",
       " ('inna', 1129),\n",
       " ('tainic', 1126),\n",
       " ('uime', 1123),\n",
       " ('baile', 1122),\n",
       " ('cathal', 1117),\n",
       " ('amhail', 1114),\n",
       " ('domhnall', 1111),\n",
       " ('marb', 1092),\n",
       " ('erenn', 1089),\n",
       " ('bliadhain', 1086),\n",
       " ('eile', 1085),\n",
       " ('drong', 1081),\n",
       " ('cluana', 1067),\n",
       " ('criost', 1065),\n",
       " ('gall', 1053),\n",
       " ('dóibh', 1044),\n",
       " ('iarsin', 1042),\n",
       " ('bith', 1042),\n",
       " ('seacht', 1042),\n",
       " ('corp', 1034),\n",
       " ('móir', 1033),\n",
       " ('ruaidhri', 1023),\n",
       " ('batar', 1013),\n",
       " ('iarom', 1005),\n",
       " ('amlaid', 988),\n",
       " ('culaind', 983),\n",
       " ('thabairt', 982),\n",
       " ('diarmata', 980),\n",
       " ('nách', 979),\n",
       " ('donnchadh', 979),\n",
       " ('mile', 975),\n",
       " ('patraic', 973),\n",
       " ('cliath', 968),\n",
       " ('bliadain', 966),\n",
       " ('techt', 959),\n",
       " ('neach', 958),\n",
       " ('flaith', 957),\n",
       " ('deich', 933),\n",
       " ('chuir', 931),\n",
       " ('orra', 922),\n",
       " ('locha', 920),\n",
       " ('atha', 919),\n",
       " ('giolla', 917),\n",
       " ('diarmait', 916),\n",
       " ('breith', 915),\n",
       " ('annsa', 904),\n",
       " ('láim', 900),\n",
       " ('gallaibh', 898),\n",
       " ('mumhan', 895),\n",
       " ('diarmada', 892),\n",
       " ('medb', 892),\n",
       " ('aird', 891),\n",
       " ('athair', 891),\n",
       " ('n-éirinn', 890),\n",
       " ('uladh', 888),\n",
       " ('cetna', 884),\n",
       " ('torchair', 875),\n",
       " ('issin', 868),\n",
       " ('coin', 848),\n",
       " ('dibh', 842),\n",
       " ('didiu', 841),\n",
       " ('gabail', 840),\n",
       " ('herend', 839),\n",
       " ('asbert', 833),\n",
       " ('idir', 832),\n",
       " ('cinn', 832),\n",
       " ('enair', 832),\n",
       " ('tabairt', 826),\n",
       " ('isna', 825),\n",
       " ('midhe', 825),\n",
       " ('bliadna', 823),\n",
       " ('mara', 812),\n",
       " ('cloinn', 802),\n",
       " ('pátraic', 802),\n",
       " ('míle', 799),\n",
       " ('druim', 789),\n",
       " ('airm', 788),\n",
       " ('sluagh', 787),\n",
       " ('eadh', 785),\n",
       " ('ocht', 781),\n",
       " ('cóir', 779),\n",
       " ('aimsir', 777),\n",
       " ('airt', 776),\n",
       " ('lugaid', 774),\n",
       " ('thabhairt', 771),\n",
       " ('coro', 770),\n",
       " ('conchobhair', 764),\n",
       " ('fionn', 763),\n",
       " ('tigerna', 761),\n",
       " ('brigit', 760),\n",
       " ('bliadhna', 753),\n",
       " ('araile', 752),\n",
       " ('sund', 751),\n",
       " ('gacha', 751),\n",
       " ('h-úa', 751),\n",
       " ('moir', 749),\n",
       " ('eoghain', 749),\n",
       " ('cuinn', 749),\n",
       " ('denam', 745),\n",
       " ('talmain', 745),\n",
       " ('bean', 744),\n",
       " ('eogain', 744),\n",
       " ('dond', 743),\n",
       " ('cormaic', 743),\n",
       " ('andsin', 743),\n",
       " ('epscop', 742),\n",
       " ('concobhair', 740),\n",
       " ('ailella', 738),\n",
       " ('magh', 737),\n",
       " ('fecht', 736),\n",
       " ('tíre', 735),\n",
       " ('ríogh', 729),\n",
       " ('diarmaid', 728),\n",
       " ('conchobor', 723),\n",
       " ('iarna', 720),\n",
       " ('lind', 720),\n",
       " ('maoil', 720),\n",
       " ('chind', 719),\n",
       " ('inghean', 719),\n",
       " ('siat', 719),\n",
       " ('chend', 718),\n",
       " ('ceann', 717),\n",
       " ('dono', 717),\n",
       " ('maine', 714),\n",
       " ('echach', 711),\n",
       " ('tánic', 708),\n",
       " ('teacht', 704),\n",
       " ('aeda', 704),\n",
       " ('fhir', 703),\n",
       " ('fola', 698),\n",
       " ('cethri', 696),\n",
       " ('brenainn', 694),\n",
       " ('clainn', 691),\n",
       " ('laim', 689),\n",
       " ('rath', 689),\n",
       " ('cidh', 688),\n",
       " ('acus', 688),\n",
       " ('forro', 687),\n",
       " ('eochaid', 687),\n",
       " ('talman', 686),\n",
       " ('tanic', 685),\n",
       " (\"do'n\", 684),\n",
       " ('bidh', 681),\n",
       " ('conaire', 681),\n",
       " ('forsin', 681),\n",
       " ('aire', 680),\n",
       " ('tres', 674),\n",
       " ('luid', 674),\n",
       " ('mairg', 668),\n",
       " ('tarla', 667),\n",
       " ('iomdha', 659),\n",
       " ('úair', 659),\n",
       " ('tadhg', 657),\n",
       " ('láimh', 655),\n",
       " ('ruaidh', 655),\n",
       " ('mbia', 651),\n",
       " ('sruth', 649),\n",
       " ('colum', 642),\n",
       " ('righe', 641),\n",
       " ('reir', 640),\n",
       " ('ruadh', 640),\n",
       " ('crich', 639),\n",
       " ('sein', 638),\n",
       " ('gidh', 637),\n",
       " ('imda', 637),\n",
       " ('fada', 637),\n",
       " ('fail', 636),\n",
       " ('dúin', 635),\n",
       " ('treas', 634),\n",
       " ('aige', 630),\n",
       " ('crist', 629),\n",
       " ('uidhir', 629)]"
      ]
     },
     "execution_count": 56,
     "metadata": {},
     "output_type": "execute_result"
    }
   ],
   "source": [
    "counts = Counter(cleaned_corpus)\n",
    "counts.most_common(300)"
   ]
  },
  {
   "cell_type": "code",
   "execution_count": 57,
   "metadata": {},
   "outputs": [
    {
     "data": {
      "text/plain": [
       "172"
      ]
     },
     "execution_count": 57,
     "metadata": {},
     "output_type": "execute_result"
    }
   ],
   "source": [
    "counts['snechta']"
   ]
  },
  {
   "cell_type": "code",
   "execution_count": 58,
   "metadata": {},
   "outputs": [],
   "source": [
    "import matplotlib.pyplot as plt\n",
    "import seaborn as sns\n",
    "from matplotlib import style\n",
    "style.use('ggplot')"
   ]
  },
  {
   "cell_type": "code",
   "execution_count": 59,
   "metadata": {},
   "outputs": [
    {
     "data": {
      "image/png": "[encoded data removed]",
      "text/plain": [
       "<Figure size 1080x720 with 1 Axes>"
      ]
     },
     "metadata": {},
     "output_type": "display_data"
    }
   ],
   "source": [
    "Y = [el[1] for el in counts.most_common() if el[1]>20 and el[1] <1000]\n",
    "X = range(len(Y))\n",
    "\n",
    "colors = sns.color_palette('viridis', 20)\n",
    "\n",
    "plt.figure(figsize=(15, 10))\n",
    "plt.bar(X, Y, color=colors)\n",
    "plt.plot(X, [50]*len(X), color='r')\n",
    "plt.plot(X, [100]*len(X), color='r')\n",
    "plt.plot(X, [150]*len(X), color='r')\n",
    "plt.show()"
   ]
  },
  {
   "cell_type": "code",
   "execution_count": 60,
   "metadata": {},
   "outputs": [
    {
     "name": "stdout",
     "output_type": "stream",
     "text": [
      "360755\n",
      "13883\n"
     ]
    }
   ],
   "source": [
    "print(len(counts))\n",
    "print(len(Y))"
   ]
  },
  {
   "cell_type": "code",
   "execution_count": 187,
   "metadata": {},
   "outputs": [
    {
     "data": {
      "text/plain": [
       "6.361081620490361"
      ]
     },
     "execution_count": 187,
     "metadata": {},
     "output_type": "execute_result"
    }
   ],
   "source": [
    "sum([el[1] for el in counts.most_common()])/len(counts)"
   ]
  },
  {
   "cell_type": "code",
   "execution_count": 61,
   "metadata": {},
   "outputs": [],
   "source": [
    "with open('corpus_counts.json', 'w', encoding='utf-8') as f:\n",
    "    json.dump(counts, f, ensure_ascii = False)"
   ]
  },
  {
   "cell_type": "markdown",
   "metadata": {},
   "source": [
    "## Preparing data from the eDIL"
   ]
  },
  {
   "cell_type": "code",
   "execution_count": 666,
   "metadata": {},
   "outputs": [],
   "source": [
    "wnl = WordNetLemmatizer()\n",
    "\n",
    "def get_pos(word):\n",
    "    w_synsets = wordnet.synsets(word)\n",
    "\n",
    "    pos_counts = Counter()\n",
    "    pos_counts[\"n\"] = len([item for item in w_synsets if item.pos()==\"n\"]  )\n",
    "    pos_counts[\"v\"] = len([item for item in w_synsets if item.pos()==\"v\"]  )\n",
    "    pos_counts[\"a\"] = len([item for item in w_synsets if item.pos()==\"a\"]  )\n",
    "    pos_counts[\"r\"] = len([item for item in w_synsets if item.pos()==\"r\"]  )\n",
    "    \n",
    "    most_common_pos_list = pos_counts.most_common(3)\n",
    "    \n",
    "    # first indexer for getting the top POS from list, \n",
    "    # second indexer for getting POS from tuple (POS: count)\n",
    "    return most_common_pos_list[0][0]\n",
    "\n",
    "def lemmatize(word):\n",
    "    return wnl.lemmatize(word, get_pos(word))\n",
    "\n",
    "def lemmatize_defs(inverted_dil):\n",
    "    inverted_dil_lemmatized = {}\n",
    "    for k, v in inverted_dil.items():\n",
    "        if get_pos(k) == 'v':\n",
    "            lem_k = lemmatize(k)\n",
    "        else:\n",
    "            lem_k = k\n",
    "        if lem_k in inverted_dil_lemmatized:\n",
    "            inverted_dil_lemmatized[lem_k] += v\n",
    "        else:\n",
    "            inverted_dil_lemmatized[lem_k] = v\n",
    "    return inverted_dil_lemmatized"
   ]
  },
  {
   "cell_type": "code",
   "execution_count": 667,
   "metadata": {},
   "outputs": [],
   "source": [
    "with open('parsed_dil.json', 'r', encoding='utf-8') as f:\n",
    "    parsed_dil = json.load(f)\n",
    "\n",
    "with open('filtered_inverted_dil.json', 'r', encoding='utf-8') as f:\n",
    "    inverted_dil = json.load(f)\n",
    "    \n",
    "inverted_dil_lemmatized = lemmatize_defs(inverted_dil)"
   ]
  },
  {
   "cell_type": "code",
   "execution_count": 668,
   "metadata": {},
   "outputs": [
    {
     "data": {
      "text/plain": [
       "['dies',\n",
       " 'discovers',\n",
       " 'imparts',\n",
       " 'undergoes',\n",
       " 'communicates',\n",
       " 'invents',\n",
       " 'is able',\n",
       " 'devises',\n",
       " 'experiences',\n",
       " 'causes',\n",
       " 'induces',\n",
       " 'meets with',\n",
       " 'procures',\n",
       " 'finds in oneself',\n",
       " 'lives',\n",
       " 'obtains',\n",
       " 'gains',\n",
       " 'gets',\n",
       " 'presumes',\n",
       " 'dares',\n",
       " 'finds',\n",
       " 'spends']"
      ]
     },
     "execution_count": 668,
     "metadata": {},
     "output_type": "execute_result"
    }
   ],
   "source": [
    "parsed_dil['fo-gaib']['defs']"
   ]
  },
  {
   "cell_type": "code",
   "execution_count": 669,
   "metadata": {},
   "outputs": [
    {
     "data": {
      "text/plain": [
       "['do-beir', 'fo-gaib', 'ad-cota', 'comaimsigid', 'tárrachtain', 'airnecht']"
      ]
     },
     "execution_count": 669,
     "metadata": {},
     "output_type": "execute_result"
    }
   ],
   "source": [
    "inverted_dil['gets']"
   ]
  },
  {
   "cell_type": "code",
   "execution_count": 670,
   "metadata": {},
   "outputs": [
    {
     "data": {
      "text/plain": [
       "['do-beir', 'fo-gaib', 'ad-cota', 'comaimsigid', 'tárrachtain', 'airnecht']"
      ]
     },
     "execution_count": 670,
     "metadata": {},
     "output_type": "execute_result"
    }
   ],
   "source": [
    "inverted_dil_lemmatized['get']"
   ]
  },
  {
   "cell_type": "code",
   "execution_count": 671,
   "metadata": {},
   "outputs": [
    {
     "data": {
      "text/plain": [
       "{'defs': ['getting',\n",
       "  'wish',\n",
       "  'waiting on',\n",
       "  'preparing',\n",
       "  'get',\n",
       "  'pleasing',\n",
       "  'obtaining',\n",
       "  'at sunrise',\n",
       "  'providing',\n",
       "  'gratifying',\n",
       "  'desire',\n",
       "  'preparation',\n",
       "  'supplying'],\n",
       " 'filtered_defs': ['obtaining', 'getting'],\n",
       " 'first_trans_defs': ['obtaining', 'getting'],\n",
       " 'forms': ['tárrachtain', 'tairecc'],\n",
       " 'lemma': 'tárrachtain',\n",
       " 'trans': ['get',\n",
       "  'providing, supplying',\n",
       "  'desire, wish',\n",
       "  'waiting on, pleasing, gratifying',\n",
       "  'preparing, preparation',\n",
       "  'getting, obtaining',\n",
       "  'at sunrise (?)']}"
      ]
     },
     "execution_count": 671,
     "metadata": {},
     "output_type": "execute_result"
    }
   ],
   "source": [
    "parsed_dil['tárrachtain']"
   ]
  },
  {
   "cell_type": "code",
   "execution_count": 672,
   "metadata": {},
   "outputs": [
    {
     "data": {
      "text/plain": [
       "['catt']"
      ]
     },
     "execution_count": 672,
     "metadata": {},
     "output_type": "execute_result"
    }
   ],
   "source": [
    "inverted_dil['cat']"
   ]
  },
  {
   "cell_type": "code",
   "execution_count": 673,
   "metadata": {},
   "outputs": [],
   "source": [
    "with open('filtered_inverted_dil_lemmatized.json', 'w', encoding='utf-8') as f:\n",
    "    json.dump(inverted_dil_lemmatized, f, ensure_ascii = False, sort_keys=True)"
   ]
  },
  {
   "cell_type": "markdown",
   "metadata": {},
   "source": [
    "## Analogy: BATS\n",
    "\n",
    "1. **Encyclopedic semantics**\n",
    "    * ✖️ **E01**: capitals *(athens:greece)* — 1/50\n",
    "    * ❓ **E02**: country:language *(bolivia:spanish)* — 7/50\n",
    "    * ❌ **E03**: uk city:county *(york:yorkshire)*\n",
    "    * ❌ **E04**: nationalities *(lincoln:american)*\n",
    "    * ❌ **E05**: occupation *(lincoln:president)*\n",
    "    * ✖️ **E06**: the young *(cat:kitten)* — 17/50\n",
    "    * ❓ **E07**: sounds *(dog:bark)* — 25/50\n",
    "    * ✖️ **E08**: shelter *(fox:den)* — 17/50\n",
    "    * ✅ **E09**: thing:color *(blood:red)* — 25/50\n",
    "    * ✖️ **E10**: male:female *(actor:actress)* — 8/50\n",
    "2. **Lexicographic semantics**\n",
    "    * ❓ **L01**: hypernyms: animals *(cat:feline)* — 17/50\n",
    "    * ✖️ **L02**: hypernyms: misc *(plum:fruit, shirt:clothes)* — 13/50\n",
    "    * ✖️ **L03**: hyponyms: misc *(bag:pouch, color:white)* — 24/50\n",
    "    * ❓ **L04**: meronyms: substance *(sea: water)* — 22/50\n",
    "    * ✖️ **L05**: meronyms: member *(player:team)* — 31/50\n",
    "    * ✖️ **L06**: meronyms: part *(car:engine)* — 18/50\n",
    "    * ✅ **L07**: synonyms: intensity *(cry:scream)* — 29/50\n",
    "    * ✅ **L08**: synonyms: exact *(sofa:couch)* — 20/50\n",
    "    * ✅ **L09**: antonyms: gradable *(clean:dirty)* — 34/50\n",
    "    * ✅ **L10**: antonyms: binary *(up:down)* — 28/50\n"
   ]
  },
  {
   "cell_type": "code",
   "execution_count": 674,
   "metadata": {},
   "outputs": [],
   "source": [
    "def load_bats(path):\n",
    "    data = {}\n",
    "    with open(path, 'r', encoding='utf-8') as f:\n",
    "        for line in f.readlines():\n",
    "            stimulus, answer = line.split('\\t')\n",
    "            answers = answer.split('/')\n",
    "            data[stimulus] = [a.strip('\\n') for a in answers]\n",
    "    return data\n",
    " \n",
    "def translate_bats(data, inverted_dil, dump=True):\n",
    "    translated_data = {}\n",
    "    for k, v in data.items():\n",
    "        if k in inverted_dil:\n",
    "            syndict = {}\n",
    "            for el in v:\n",
    "                if el in inverted_dil:\n",
    "                    syndict[el] = inverted_dil[el]\n",
    "                else:\n",
    "                    continue\n",
    "                if len(syndict) != 0:\n",
    "                    transdict = {}\n",
    "                    transdict['trans'] = inverted_dil[k]\n",
    "                    transdict['pair'] = syndict\n",
    "                    translated_data[k] = transdict\n",
    "                else:\n",
    "                    continue\n",
    "        else:\n",
    "            continue          \n",
    "    return translated_data         "
   ]
  },
  {
   "cell_type": "code",
   "execution_count": 675,
   "metadata": {},
   "outputs": [],
   "source": [
    "percent_translated = {}"
   ]
  },
  {
   "cell_type": "markdown",
   "metadata": {},
   "source": [
    "### ENCYCLOPEDIC SEMANTICS\n",
    "### Capital: country (E01)"
   ]
  },
  {
   "cell_type": "code",
   "execution_count": 676,
   "metadata": {},
   "outputs": [],
   "source": [
    "E01_source = load_bats(\"../Embeddings/evaluation_datasets/Analogy/BATS_3.0/3_Encyclopedic_semantics/E01 [country - capital].txt\")\n",
    "E01_trans = translate_bats(E01_source, inverted_dil_lemmatized)"
   ]
  },
  {
   "cell_type": "code",
   "execution_count": 677,
   "metadata": {},
   "outputs": [
    {
     "name": "stdout",
     "output_type": "stream",
     "text": [
      "1 out of 50 examples translated\n"
     ]
    }
   ],
   "source": [
    "print(\"%s out of %s examples translated\" % (len(E01_trans), len(E01_source)))\n",
    "percent_translated['E01'] = len(E01_trans)/len(E01_source)"
   ]
  },
  {
   "cell_type": "code",
   "execution_count": 678,
   "metadata": {},
   "outputs": [],
   "source": [
    "with open('BATS_E01_trans.json', 'w', encoding='utf-8') as f:\n",
    "    json.dump(E01_trans, f, ensure_ascii = False, sort_keys=True)"
   ]
  },
  {
   "cell_type": "markdown",
   "metadata": {},
   "source": [
    "### Country: language (E02)"
   ]
  },
  {
   "cell_type": "code",
   "execution_count": 679,
   "metadata": {},
   "outputs": [],
   "source": [
    "E02_source = load_bats(\"../Embeddings/evaluation_datasets/Analogy/BATS_3.0/3_Encyclopedic_semantics/E02 [country - language].txt\")\n",
    "E02_trans = translate_bats(E02_source, inverted_dil_lemmatized)"
   ]
  },
  {
   "cell_type": "code",
   "execution_count": 680,
   "metadata": {},
   "outputs": [
    {
     "name": "stdout",
     "output_type": "stream",
     "text": [
      "7 out of 50 examples translated\n"
     ]
    },
    {
     "data": {
      "text/plain": [
       "dict_keys(['cyprus', 'denmark', 'egypt', 'ireland', 'israel', 'jordan', 'palestine'])"
      ]
     },
     "execution_count": 680,
     "metadata": {},
     "output_type": "execute_result"
    }
   ],
   "source": [
    "print(\"%s out of %s examples translated\" % (len(E02_trans), len(E02_source)))\n",
    "percent_translated['E02'] = len(E02_trans)/len(E02_source)\n",
    "E02_trans.keys()"
   ]
  },
  {
   "cell_type": "code",
   "execution_count": 681,
   "metadata": {},
   "outputs": [
    {
     "data": {
      "text/plain": [
       "{'cyprus': {'trans': ['sipra'],\n",
       "  'pair': {'greek': ['grécach', 'grécde'], 'turkish': ['turcanta']}},\n",
       " 'denmark': {'trans': ['dania', 'danmairg'],\n",
       "  'pair': {'danish': ['danardae'], 'german': ['almainech']}},\n",
       " 'egypt': {'trans': ['égept'], 'pair': {'arabic': ['arabdae']}},\n",
       " 'ireland': {'trans': ['banba', 'tailtiu', 'fúata', 'ériu'],\n",
       "  'pair': {'english': ['ainglis'],\n",
       "   'irish': ['scoitecda', 'goídelach', 'goídelta', 'érennach'],\n",
       "   'gaelic': ['goídelach', 'goídelta']}},\n",
       " 'israel': {'trans': ['israhél'],\n",
       "  'pair': {'hebrew': ['ebraide', 'ebrach', 'ebraidech'],\n",
       "   'arabic': ['arabdae']}},\n",
       " 'jordan': {'trans': ['iordanén'], 'pair': {'arabic': ['arabdae']}},\n",
       " 'palestine': {'trans': ['feilistin'], 'pair': {'arabic': ['arabdae']}}}"
      ]
     },
     "execution_count": 681,
     "metadata": {},
     "output_type": "execute_result"
    }
   ],
   "source": [
    "E02_trans"
   ]
  },
  {
   "cell_type": "code",
   "execution_count": 682,
   "metadata": {},
   "outputs": [],
   "source": [
    "with open('BATS_E02_trans.json', 'w', encoding='utf-8') as f:\n",
    "    json.dump(E02_trans, f, ensure_ascii = False, sort_keys=True)"
   ]
  },
  {
   "cell_type": "markdown",
   "metadata": {},
   "source": [
    "### Animal: young animal (E06)"
   ]
  },
  {
   "cell_type": "code",
   "execution_count": 683,
   "metadata": {},
   "outputs": [],
   "source": [
    "E06_source = load_bats(\"../Embeddings/evaluation_datasets/Analogy/BATS_3.0/3_Encyclopedic_semantics/E06 [animal - young].txt\")\n",
    "E06_trans = translate_bats(E06_source, inverted_dil_lemmatized)"
   ]
  },
  {
   "cell_type": "code",
   "execution_count": 684,
   "metadata": {},
   "outputs": [
    {
     "name": "stdout",
     "output_type": "stream",
     "text": [
      "17 out of 50 examples translated\n"
     ]
    },
    {
     "data": {
      "text/plain": [
       "dict_keys(['bear', 'cat', 'cattle', 'deer', 'dog', 'elephant', 'fish', 'fly', 'fox', 'horse', 'lion', 'ox', 'seal', 'sheep', 'tiger', 'whale', 'wolf'])"
      ]
     },
     "execution_count": 684,
     "metadata": {},
     "output_type": "execute_result"
    }
   ],
   "source": [
    "print(\"%s out of %s examples translated\" % (len(E06_trans), len(E06_source)))\n",
    "percent_translated['E06'] = len(E06_trans)/len(E06_source)\n",
    "E06_trans.keys()"
   ]
  },
  {
   "cell_type": "code",
   "execution_count": 685,
   "metadata": {},
   "outputs": [],
   "source": [
    "with open('BATS_E06_trans.json', 'w', encoding='utf-8') as f:\n",
    "    json.dump(E06_trans, f, ensure_ascii = False, sort_keys=True)"
   ]
  },
  {
   "cell_type": "markdown",
   "metadata": {},
   "source": [
    "### Animal: sound (E07)"
   ]
  },
  {
   "cell_type": "code",
   "execution_count": 686,
   "metadata": {},
   "outputs": [],
   "source": [
    "E07_source = load_bats(\"../Embeddings/evaluation_datasets/Analogy/BATS_3.0/3_Encyclopedic_semantics/E07 [animal - sound].txt\")\n",
    "E07_trans = translate_bats(E07_source, inverted_dil_lemmatized)"
   ]
  },
  {
   "cell_type": "code",
   "execution_count": 687,
   "metadata": {},
   "outputs": [
    {
     "name": "stdout",
     "output_type": "stream",
     "text": [
      "25 out of 50 examples translated\n"
     ]
    },
    {
     "data": {
      "text/plain": [
       "dict_keys(['bee', 'beetle', 'cat', 'cattle', 'chicken', 'crow', 'deer', 'dog', 'elephant', 'fly', 'fox', 'frog', 'horse', 'lion', 'pig', 'pigeon', 'raven', 'seal', 'sheep', 'snake', 'tiger', 'toad', 'turkey', 'whale', 'wolf'])"
      ]
     },
     "execution_count": 687,
     "metadata": {},
     "output_type": "execute_result"
    }
   ],
   "source": [
    "print(\"%s out of %s examples translated\" % (len(E07_trans), len(E07_source)))\n",
    "percent_translated['E07'] = len(E07_trans)/len(E07_source)\n",
    "E07_trans.keys()"
   ]
  },
  {
   "cell_type": "code",
   "execution_count": 688,
   "metadata": {},
   "outputs": [],
   "source": [
    "with open('BATS_E07_trans.json', 'w', encoding='utf-8') as f:\n",
    "    json.dump(E07_trans, f, ensure_ascii = False, sort_keys=True)"
   ]
  },
  {
   "cell_type": "markdown",
   "metadata": {},
   "source": [
    "### Animal: shelter (E08)"
   ]
  },
  {
   "cell_type": "code",
   "execution_count": 689,
   "metadata": {},
   "outputs": [],
   "source": [
    "E08_source = load_bats(\"../Embeddings/evaluation_datasets/Analogy/BATS_3.0/3_Encyclopedic_semantics/E08 [animal - shelter].txt\")\n",
    "E08_trans = translate_bats(E08_source, inverted_dil_lemmatized)"
   ]
  },
  {
   "cell_type": "code",
   "execution_count": 690,
   "metadata": {},
   "outputs": [
    {
     "name": "stdout",
     "output_type": "stream",
     "text": [
      "17 out of 50 examples translated\n"
     ]
    },
    {
     "data": {
      "text/plain": [
       "dict_keys(['bear', 'cattle', 'dog', 'fish', 'fox', 'hedgehog', 'herring', 'horse', 'lion', 'mole', 'pig', 'rabbit', 'seal', 'snake', 'tiger', 'whale', 'wolf'])"
      ]
     },
     "execution_count": 690,
     "metadata": {},
     "output_type": "execute_result"
    }
   ],
   "source": [
    "print(\"%s out of %s examples translated\" % (len(E08_trans), len(E08_source)))\n",
    "percent_translated['E08'] = len(E08_trans)/len(E08_source)\n",
    "E08_trans.keys()"
   ]
  },
  {
   "cell_type": "code",
   "execution_count": 691,
   "metadata": {},
   "outputs": [],
   "source": [
    "with open('BATS_E08_trans.json', 'w', encoding='utf-8') as f:\n",
    "    json.dump(E08_trans, f, ensure_ascii = False, sort_keys=True)"
   ]
  },
  {
   "cell_type": "markdown",
   "metadata": {},
   "source": [
    "### Thing : colour (E09)"
   ]
  },
  {
   "cell_type": "code",
   "execution_count": 692,
   "metadata": {},
   "outputs": [],
   "source": [
    "E09_source = load_bats(\"../Embeddings/evaluation_datasets/Analogy/BATS_3.0/3_Encyclopedic_semantics/E09 [things - color].txt\")\n",
    "E09_trans = translate_bats(E09_source, inverted_dil_lemmatized)"
   ]
  },
  {
   "cell_type": "code",
   "execution_count": 693,
   "metadata": {},
   "outputs": [
    {
     "name": "stdout",
     "output_type": "stream",
     "text": [
      "25 out of 50 examples translated\n"
     ]
    },
    {
     "data": {
      "text/plain": [
       "dict_keys(['blood', 'bruise', 'cabbage', 'coal', 'cream', 'crow', 'cucumber', 'emerald', 'frog', 'grass', 'milk', 'paper', 'parsley', 'peony', 'pepper', 'raven', 'salt', 'sapphire', 'sea', 'sky', 'snow', 'soil', 'sugar', 'sun', 'swan'])"
      ]
     },
     "execution_count": 693,
     "metadata": {},
     "output_type": "execute_result"
    }
   ],
   "source": [
    "print(\"%s out of %s examples translated\" % (len(E09_trans), len(E09_source)))\n",
    "percent_translated['E09'] = len(E09_trans)/len(E09_source)\n",
    "E09_trans.keys()"
   ]
  },
  {
   "cell_type": "code",
   "execution_count": 694,
   "metadata": {},
   "outputs": [
    {
     "data": {
      "text/plain": [
       "{'trans': ['fuil', 'crú', 'fuilred'],\n",
       " 'pair': {'red': ['dergthach', 'rúamanta', 'forrúamnaide', 'crón', 'derg']}}"
      ]
     },
     "execution_count": 694,
     "metadata": {},
     "output_type": "execute_result"
    }
   ],
   "source": [
    "E09_trans['blood']"
   ]
  },
  {
   "cell_type": "code",
   "execution_count": 695,
   "metadata": {},
   "outputs": [],
   "source": [
    "with open('BATS_E09_trans.json', 'w', encoding='utf-8') as f:\n",
    "    json.dump(E09_trans, f, ensure_ascii = False, sort_keys=True)"
   ]
  },
  {
   "cell_type": "markdown",
   "metadata": {},
   "source": [
    "### Male : female (E10)"
   ]
  },
  {
   "cell_type": "code",
   "execution_count": 696,
   "metadata": {},
   "outputs": [],
   "source": [
    "E10_source = load_bats(\"../Embeddings/evaluation_datasets/Analogy/BATS_3.0/3_Encyclopedic_semantics/E10 [male - female].txt\")\n",
    "E10_trans = translate_bats(E10_source, inverted_dil_lemmatized)"
   ]
  },
  {
   "cell_type": "code",
   "execution_count": 697,
   "metadata": {},
   "outputs": [
    {
     "name": "stdout",
     "output_type": "stream",
     "text": [
      "8 out of 50 examples translated\n"
     ]
    },
    {
     "data": {
      "text/plain": [
       "dict_keys(['boar', 'boy', 'bull', 'emperor', 'husband', 'man', 'son', 'stallion'])"
      ]
     },
     "execution_count": 697,
     "metadata": {},
     "output_type": "execute_result"
    }
   ],
   "source": [
    "print(\"%s out of %s examples translated\" % (len(E10_trans), len(E10_source)))\n",
    "percent_translated['E10'] = len(E10_trans)/len(E10_source)\n",
    "E10_trans.keys()"
   ]
  },
  {
   "cell_type": "code",
   "execution_count": 698,
   "metadata": {},
   "outputs": [],
   "source": [
    "with open('BATS_E10_trans.json', 'w', encoding='utf-8') as f:\n",
    "    json.dump(E10_trans, f, ensure_ascii = False, sort_keys=True)"
   ]
  },
  {
   "cell_type": "markdown",
   "metadata": {},
   "source": [
    "### LEXICOGRAPHIC SEMANTICS\n",
    "### Hypernyms: animals (L01)"
   ]
  },
  {
   "cell_type": "code",
   "execution_count": 699,
   "metadata": {},
   "outputs": [],
   "source": [
    "L01_source = load_bats(\"../Embeddings/evaluation_datasets/Analogy/BATS_3.0/4_Lexicographic_semantics/L01 [hypernyms - animals].txt\")\n",
    "L01_trans = translate_bats(L01_source, inverted_dil_lemmatized)"
   ]
  },
  {
   "cell_type": "code",
   "execution_count": 700,
   "metadata": {},
   "outputs": [
    {
     "name": "stdout",
     "output_type": "stream",
     "text": [
      "17 out of 50 examples translated\n"
     ]
    },
    {
     "data": {
      "text/plain": [
       "dict_keys(['bee', 'beetle', 'cat', 'chicken', 'cow', 'deer', 'dog', 'eagle', 'fox', 'hawk', 'human', 'leopard', 'lion', 'mouse', 'tiger', 'turkey', 'wolf'])"
      ]
     },
     "execution_count": 700,
     "metadata": {},
     "output_type": "execute_result"
    }
   ],
   "source": [
    "print(\"%s out of %s examples translated\" % (len(L01_trans), len(L01_source)))\n",
    "percent_translated['L01'] = len(L01_trans)/len(L01_source)\n",
    "L01_trans.keys()"
   ]
  },
  {
   "cell_type": "code",
   "execution_count": 701,
   "metadata": {},
   "outputs": [
    {
     "data": {
      "text/plain": [
       "{'trans': ['ségach', 'criun'],\n",
       " 'pair': {'canine': ['condae'],\n",
       "  'creature': ['crétúir'],\n",
       "  'beast': ['cethir', 'bethach', 'brúit', 'nellach'],\n",
       "  'animal': ['ainmide', 'ainmíl', 'anmandae', 'anmann']}}"
      ]
     },
     "execution_count": 701,
     "metadata": {},
     "output_type": "execute_result"
    }
   ],
   "source": [
    "L01_trans['wolf']"
   ]
  },
  {
   "cell_type": "code",
   "execution_count": 702,
   "metadata": {},
   "outputs": [],
   "source": [
    "with open('BATS_L01_trans.json', 'w', encoding='utf-8') as f:\n",
    "    json.dump(L01_trans, f, ensure_ascii = False, sort_keys=True)"
   ]
  },
  {
   "cell_type": "markdown",
   "metadata": {},
   "source": [
    "### Hypernyms: misc (L02)"
   ]
  },
  {
   "cell_type": "code",
   "execution_count": 703,
   "metadata": {},
   "outputs": [],
   "source": [
    "L02_source = load_bats(\"../Embeddings/evaluation_datasets/Analogy/BATS_3.0/4_Lexicographic_semantics/L02 [hypernyms - misc].txt\")\n",
    "L02_trans = translate_bats(L02_source, inverted_dil_lemmatized)"
   ]
  },
  {
   "cell_type": "code",
   "execution_count": 704,
   "metadata": {},
   "outputs": [
    {
     "name": "stdout",
     "output_type": "stream",
     "text": [
      "13 out of 50 examples translated\n"
     ]
    },
    {
     "data": {
      "text/plain": [
       "dict_keys(['bracelet', 'brooch', 'cake', 'computer', 'cup', 'dress', 'lemon', 'lotion', 'pastry', 'pie', 'shirt', 'skirt', 'tub'])"
      ]
     },
     "execution_count": 704,
     "metadata": {},
     "output_type": "execute_result"
    }
   ],
   "source": [
    "print(\"%s out of %s examples translated\" % (len(L02_trans), len(L02_source)))\n",
    "percent_translated['L02'] = len(L02_trans)/len(L02_source)\n",
    "L02_trans.keys()"
   ]
  },
  {
   "cell_type": "code",
   "execution_count": 705,
   "metadata": {},
   "outputs": [
    {
     "data": {
      "text/plain": [
       "{'trans': ['eó', 'della', 'bretnas', 'dúalldai', 'briar', 'brotga'],\n",
       " 'pair': {'adornment': ['órnaidhecht', 'órnailtecht', 'brechtrad'],\n",
       "  'decoration': ['forníam'],\n",
       "  'ornament': ['uraicde',\n",
       "   'glóir',\n",
       "   'imchumtach',\n",
       "   'comecar',\n",
       "   'imdénmach',\n",
       "   'uscarach',\n",
       "   'grésta',\n",
       "   'scíamda',\n",
       "   'delbach',\n",
       "   'brecc',\n",
       "   'ecrad',\n",
       "   'deisecht'],\n",
       "  'ornamentation': ['imcherd', 'forbrechtrad'],\n",
       "  'object': ['cuspóir', 'inrige', 'fáth', 'foégem', 'frithtuidecht']}}"
      ]
     },
     "execution_count": 705,
     "metadata": {},
     "output_type": "execute_result"
    }
   ],
   "source": [
    "L02_trans['brooch']"
   ]
  },
  {
   "cell_type": "code",
   "execution_count": 706,
   "metadata": {},
   "outputs": [],
   "source": [
    "with open('BATS_L02_trans.json', 'w', encoding='utf-8') as f:\n",
    "    json.dump(L02_trans, f, ensure_ascii = False, sort_keys=True)"
   ]
  },
  {
   "cell_type": "markdown",
   "metadata": {},
   "source": [
    "### Hyponyms:  misc (L03)"
   ]
  },
  {
   "cell_type": "code",
   "execution_count": 707,
   "metadata": {},
   "outputs": [],
   "source": [
    "L03_source = load_bats(\"../Embeddings/evaluation_datasets/Analogy/BATS_3.0/4_Lexicographic_semantics/L03 [hyponyms - misc].txt\")\n",
    "L03_trans = translate_bats(L03_source, inverted_dil_lemmatized)"
   ]
  },
  {
   "cell_type": "code",
   "execution_count": 708,
   "metadata": {},
   "outputs": [
    {
     "name": "stdout",
     "output_type": "stream",
     "text": [
      "24 out of 50 examples translated\n"
     ]
    },
    {
     "data": {
      "text/plain": [
       "dict_keys(['bag', 'bed', 'boat', 'book', 'brush', 'candy', 'church', 'collar', 'computer', 'container', 'cup', 'cushion', 'dress', 'drum', 'jewel', 'poem', 'seat', 'shirt', 'shoes', 'song', 'spice', 'tool', 'toy', 'trousers'])"
      ]
     },
     "execution_count": 708,
     "metadata": {},
     "output_type": "execute_result"
    }
   ],
   "source": [
    "print(\"%s out of %s examples translated\" % (len(L03_trans), len(L03_source)))\n",
    "percent_translated['L03'] = len(L03_trans)/len(L03_source)\n",
    "L03_trans.keys()"
   ]
  },
  {
   "cell_type": "code",
   "execution_count": 709,
   "metadata": {},
   "outputs": [
    {
     "data": {
      "text/plain": [
       "dict_keys(['bag', 'bed', 'boat', 'book', 'brush', 'candy', 'church', 'collar', 'computer', 'container', 'cup', 'cushion', 'dress', 'drum', 'jewel', 'poem', 'seat', 'shirt', 'shoes', 'song', 'spice', 'tool', 'toy', 'trousers'])"
      ]
     },
     "execution_count": 709,
     "metadata": {},
     "output_type": "execute_result"
    }
   ],
   "source": [
    "L03_trans.keys()"
   ]
  },
  {
   "cell_type": "code",
   "execution_count": 710,
   "metadata": {},
   "outputs": [
    {
     "data": {
      "text/plain": [
       "{'trans': ['bailir', 'dúan', 'laíd', 'salt', 'comad'],\n",
       " 'pair': {'lay': ['furmada', 'laíd', 'dothad', 'in-loing'],\n",
       "  'lament': ['guban',\n",
       "   'núar',\n",
       "   'écndaigthe',\n",
       "   'guba',\n",
       "   'mairgtenach',\n",
       "   'gubadach',\n",
       "   'éccaíntech',\n",
       "   'faídech',\n",
       "   'basgaire',\n",
       "   'faídiud',\n",
       "   'caíned',\n",
       "   'comacaíne',\n",
       "   'éccaíniud',\n",
       "   'caíne'],\n",
       "  'verse': ['metardacht', 'fersad', 'uérsa']}}"
      ]
     },
     "execution_count": 710,
     "metadata": {},
     "output_type": "execute_result"
    }
   ],
   "source": [
    "L03_trans['poem']"
   ]
  },
  {
   "cell_type": "code",
   "execution_count": 711,
   "metadata": {},
   "outputs": [],
   "source": [
    "with open('BATS_L03_trans.json', 'w', encoding='utf-8') as f:\n",
    "    json.dump(L03_trans, f, ensure_ascii = False, sort_keys=True)"
   ]
  },
  {
   "cell_type": "markdown",
   "metadata": {},
   "source": [
    "### Meronyms: substance (L04)"
   ]
  },
  {
   "cell_type": "code",
   "execution_count": 712,
   "metadata": {},
   "outputs": [],
   "source": [
    "L04_source = load_bats(\"../Embeddings/evaluation_datasets/Analogy/BATS_3.0/4_Lexicographic_semantics/L04 [meronyms - substance].txt\")\n",
    "L04_trans = translate_bats(L04_source, inverted_dil_lemmatized)"
   ]
  },
  {
   "cell_type": "code",
   "execution_count": 713,
   "metadata": {},
   "outputs": [
    {
     "name": "stdout",
     "output_type": "stream",
     "text": [
      "22 out of 50 examples translated\n"
     ]
    },
    {
     "data": {
      "text/plain": [
       "dict_keys(['beard', 'body', 'bottle', 'bowl', 'box', 'bread', 'bronze', 'candy', 'flag', 'house', 'ice', 'lawn', 'mirror', 'ocean', 'pastry', 'penny', 'roof', 'sea', 'snow', 'spoon', 'wall', 'water'])"
      ]
     },
     "execution_count": 713,
     "metadata": {},
     "output_type": "execute_result"
    }
   ],
   "source": [
    "print(\"%s out of %s examples translated\" % (len(L04_trans), len(L04_source)))\n",
    "percent_translated['L04'] = len(L04_trans)/len(L04_source)\n",
    "L04_trans.keys()"
   ]
  },
  {
   "cell_type": "code",
   "execution_count": 714,
   "metadata": {},
   "outputs": [
    {
     "data": {
      "text/plain": [
       "{'trans': ['troichit', 'coim', 'compar', 'crí', 'arc', 'luba'],\n",
       " 'pair': {'flesh': ['crí', 'feóil', 'cúa', 'carna']}}"
      ]
     },
     "execution_count": 714,
     "metadata": {},
     "output_type": "execute_result"
    }
   ],
   "source": [
    "L04_trans['body']"
   ]
  },
  {
   "cell_type": "code",
   "execution_count": 715,
   "metadata": {},
   "outputs": [],
   "source": [
    "with open('BATS_L04_trans.json', 'w', encoding='utf-8') as f:\n",
    "    json.dump(L04_trans, f, ensure_ascii = False, sort_keys=True)"
   ]
  },
  {
   "cell_type": "markdown",
   "metadata": {},
   "source": [
    "### Meronyms: member (L05)"
   ]
  },
  {
   "cell_type": "code",
   "execution_count": 716,
   "metadata": {},
   "outputs": [],
   "source": [
    "L05_source = load_bats(\"../Embeddings/evaluation_datasets/Analogy/BATS_3.0/4_Lexicographic_semantics/L05 [meronyms - member].txt\")\n",
    "L05_trans = translate_bats(L05_source, inverted_dil_lemmatized)"
   ]
  },
  {
   "cell_type": "code",
   "execution_count": 717,
   "metadata": {},
   "outputs": [
    {
     "name": "stdout",
     "output_type": "stream",
     "text": [
      "31 out of 50 examples translated\n"
     ]
    },
    {
     "data": {
      "text/plain": [
       "dict_keys(['bee', 'book', 'calf', 'cattle', 'christian', 'citizen', 'college', 'county', 'cow', 'crow', 'division', 'elephant', 'fish', 'flower', 'kitten', 'letter', 'lion', 'listener', 'member', 'musician', 'person', 'sheep', 'singer', 'soldier', 'song', 'spouse', 'star', 'state', 'student', 'tree', 'word'])"
      ]
     },
     "execution_count": 717,
     "metadata": {},
     "output_type": "execute_result"
    }
   ],
   "source": [
    "print(\"%s out of %s examples translated\" % (len(L05_trans), len(L05_source)))\n",
    "percent_translated['L05'] = len(L05_trans)/len(L05_source)\n",
    "L05_trans.keys()"
   ]
  },
  {
   "cell_type": "code",
   "execution_count": 718,
   "metadata": {},
   "outputs": [
    {
     "data": {
      "text/plain": [
       "{'trans': ['crann', 'cubus', 'crannach', 'fidrad'],\n",
       " 'pair': {'forest': ['caill'],\n",
       "  'wood': ['caill', 'cóit', 'de-ḟid'],\n",
       "  'grove': ['crannach']}}"
      ]
     },
     "execution_count": 718,
     "metadata": {},
     "output_type": "execute_result"
    }
   ],
   "source": [
    "L05_trans['tree']"
   ]
  },
  {
   "cell_type": "code",
   "execution_count": 719,
   "metadata": {},
   "outputs": [],
   "source": [
    "with open('BATS_L05_trans.json', 'w', encoding='utf-8') as f:\n",
    "    json.dump(L05_trans, f, ensure_ascii = False, sort_keys=True)"
   ]
  },
  {
   "cell_type": "markdown",
   "metadata": {},
   "source": [
    "### Meronyms: part (L06)"
   ]
  },
  {
   "cell_type": "code",
   "execution_count": 720,
   "metadata": {},
   "outputs": [],
   "source": [
    "L06_source = load_bats(\"../Embeddings/evaluation_datasets/Analogy/BATS_3.0/4_Lexicographic_semantics/L06 [meronyms - part].txt\")\n",
    "L06_trans = translate_bats(L06_source, inverted_dil_lemmatized)"
   ]
  },
  {
   "cell_type": "code",
   "execution_count": 721,
   "metadata": {},
   "outputs": [
    {
     "name": "stdout",
     "output_type": "stream",
     "text": [
      "18 out of 50 examples translated\n"
     ]
    },
    {
     "data": {
      "text/plain": [
       "dict_keys(['apartment', 'brush', 'castle', 'cat', 'chair', 'church', 'comb', 'day', 'deer', 'door', 'dress', 'flower', 'pie', 'poem', 'shirt', 'sword', 'window', 'womb'])"
      ]
     },
     "execution_count": 721,
     "metadata": {},
     "output_type": "execute_result"
    }
   ],
   "source": [
    "print(\"%s out of %s examples translated\" % (len(L06_trans), len(L06_source)))\n",
    "percent_translated['L06'] = len(L06_trans)/len(L06_source)\n",
    "L06_trans.keys()"
   ]
  },
  {
   "cell_type": "code",
   "execution_count": 722,
   "metadata": {},
   "outputs": [
    {
     "data": {
      "text/plain": [
       "{'trans': ['catt'],\n",
       " 'pair': {'coat': ['tuinech'],\n",
       "  'fur': ['fethan', 'brothar', 'finnfad', 'furra', 'gré'],\n",
       "  'eyes': ['súilid'],\n",
       "  'back': ['druimne',\n",
       "   'druimm',\n",
       "   'cúl',\n",
       "   'ais',\n",
       "   'síar',\n",
       "   'frithing',\n",
       "   'íartharach'],\n",
       "  'claws': ['crúbach', 'ingnech', 'crobail'],\n",
       "  'tail': ['losnaid', 'cairche', 'cairchech', 'cod']}}"
      ]
     },
     "execution_count": 722,
     "metadata": {},
     "output_type": "execute_result"
    }
   ],
   "source": [
    "L06_trans['cat']"
   ]
  },
  {
   "cell_type": "code",
   "execution_count": 723,
   "metadata": {},
   "outputs": [],
   "source": [
    "with open('BATS_L06_trans.json', 'w', encoding='utf-8') as f:\n",
    "    json.dump(L06_trans, f, ensure_ascii = False, sort_keys=True)"
   ]
  },
  {
   "cell_type": "markdown",
   "metadata": {},
   "source": [
    "### Synonyms: intensity (L07)"
   ]
  },
  {
   "cell_type": "code",
   "execution_count": 724,
   "metadata": {},
   "outputs": [],
   "source": [
    "L07_source = load_bats(\"../Embeddings/evaluation_datasets/Analogy/BATS_3.0/4_Lexicographic_semantics/L07 [synonyms - intensity].txt\")\n",
    "L07_trans = translate_bats(L07_source, inverted_dil_lemmatized)"
   ]
  },
  {
   "cell_type": "code",
   "execution_count": 725,
   "metadata": {},
   "outputs": [
    {
     "name": "stdout",
     "output_type": "stream",
     "text": [
      "29 out of 50 examples translated\n"
     ]
    },
    {
     "data": {
      "text/plain": [
       "dict_keys(['afraid', 'angry', 'ask', 'bad', 'cat', 'creative', 'cry', 'damp', 'dislike', 'doze', 'guilty', 'house', 'hungry', 'irritate', 'like', 'love', 'nap', 'necessary', 'pain', 'rain', 'sad', 'sea', 'soon', 'strong', 'unfortunate', 'unhappy', 'want', 'warm', 'well'])"
      ]
     },
     "execution_count": 725,
     "metadata": {},
     "output_type": "execute_result"
    }
   ],
   "source": [
    "print(\"%s out of %s examples translated\" % (len(L07_trans), len(L07_source)))\n",
    "percent_translated['L07'] = len(L07_trans)/len(L07_source)\n",
    "L07_trans.keys()"
   ]
  },
  {
   "cell_type": "code",
   "execution_count": 726,
   "metadata": {},
   "outputs": [
    {
     "data": {
      "text/plain": [
       "{'trans': ['ambúan', 'saich', 'dímaith', 'elc', 'droch', 'dái', 'olc'],\n",
       " 'pair': {'awful': ['úathmar', 'áigthide', 'úaithméla', 'úaithbélta'],\n",
       "  'abominable': ['déistinech', 'adéitig', 'adéitchide'],\n",
       "  'dreadful': ['athúathaigthe',\n",
       "   'áigthech',\n",
       "   'forgránda',\n",
       "   'forgráinne',\n",
       "   'úathach',\n",
       "   'ágasta'],\n",
       "  'painful': ['gomach',\n",
       "   'todérnamach',\n",
       "   'ríachda',\n",
       "   'algach',\n",
       "   'doccamlach',\n",
       "   'gúr'],\n",
       "  'terrible': ['úathbásach',\n",
       "   'gránda',\n",
       "   'áigthide',\n",
       "   'adúathmar',\n",
       "   'scálda',\n",
       "   'gáibthech',\n",
       "   'úamnach'],\n",
       "  'unspeakable': ['díaisndíse', 'díḟoillsigthech']}}"
      ]
     },
     "execution_count": 726,
     "metadata": {},
     "output_type": "execute_result"
    }
   ],
   "source": [
    "L07_trans['bad']"
   ]
  },
  {
   "cell_type": "code",
   "execution_count": 727,
   "metadata": {},
   "outputs": [
    {
     "data": {
      "text/plain": [
       "{'trans': ['muinecht',\n",
       "  'grádugud',\n",
       "  'condalbae',\n",
       "  'amor',\n",
       "  'grád',\n",
       "  'inmaine',\n",
       "  'inmainecht',\n",
       "  'dércaige',\n",
       "  'cartóit',\n",
       "  'annsacht',\n",
       "  'carthach',\n",
       "  'carmar',\n",
       "  'dígraisech',\n",
       "  'grádmar',\n",
       "  'cenchair',\n",
       "  'grádach',\n",
       "  'sercda',\n",
       "  'carthanach'],\n",
       " 'pair': {'adore': ['adraid'],\n",
       "  'worship': ['omoint', 'adraid'],\n",
       "  'revere': ['cádusach', 'cáttamail']}}"
      ]
     },
     "execution_count": 727,
     "metadata": {},
     "output_type": "execute_result"
    }
   ],
   "source": [
    "L07_trans['love']"
   ]
  },
  {
   "cell_type": "code",
   "execution_count": 728,
   "metadata": {},
   "outputs": [],
   "source": [
    "with open('BATS_L07_trans.json', 'w', encoding='utf-8') as f:\n",
    "    json.dump(L07_trans, f, ensure_ascii = False, sort_keys=True)"
   ]
  },
  {
   "cell_type": "markdown",
   "metadata": {},
   "source": [
    "### Synonyms: exact (L08)"
   ]
  },
  {
   "cell_type": "code",
   "execution_count": 729,
   "metadata": {},
   "outputs": [],
   "source": [
    "L08_source = load_bats(\"../Embeddings/evaluation_datasets/Analogy/BATS_3.0/4_Lexicographic_semantics/L08 [synonyms - exact].txt\")\n",
    "L08_trans = translate_bats(L08_source, inverted_dil_lemmatized)"
   ]
  },
  {
   "cell_type": "code",
   "execution_count": 730,
   "metadata": {},
   "outputs": [
    {
     "name": "stdout",
     "output_type": "stream",
     "text": [
      "20 out of 50 examples translated\n"
     ]
    },
    {
     "data": {
      "text/plain": [
       "dict_keys(['child', 'cloth', 'flower', 'help', 'incorrect', 'intelligent', 'jewel', 'lady', 'lazy', 'list', 'loyal', 'murder', 'new', 'portion', 'reasonable', 'rock', 'shore', 'snake', 'spouse', 'style'])"
      ]
     },
     "execution_count": 730,
     "metadata": {},
     "output_type": "execute_result"
    }
   ],
   "source": [
    "print(\"%s out of %s examples translated\" % (len(L08_trans), len(L08_source)))\n",
    "percent_translated['L08'] = len(L08_trans)/len(L08_source)\n",
    "L08_trans.keys()"
   ]
  },
  {
   "cell_type": "code",
   "execution_count": 731,
   "metadata": {},
   "outputs": [
    {
     "data": {
      "text/plain": [
       "{'trans': ['crec', 'ail', 'ailbech', 'carrac', 'lúascad'],\n",
       " 'pair': {'stone': ['cloch', 'ail', 'cerd', 'cluipit']}}"
      ]
     },
     "execution_count": 731,
     "metadata": {},
     "output_type": "execute_result"
    }
   ],
   "source": [
    "L08_trans['rock']"
   ]
  },
  {
   "cell_type": "code",
   "execution_count": 732,
   "metadata": {},
   "outputs": [],
   "source": [
    "with open('BATS_L08_trans.json', 'w', encoding='utf-8') as f:\n",
    "    json.dump(L08_trans, f, ensure_ascii = False, sort_keys=True)"
   ]
  },
  {
   "cell_type": "markdown",
   "metadata": {},
   "source": [
    "### Antonyms: gradable (L09)"
   ]
  },
  {
   "cell_type": "code",
   "execution_count": 733,
   "metadata": {},
   "outputs": [],
   "source": [
    "L09_source = load_bats(\"../Embeddings/evaluation_datasets/Analogy/BATS_3.0/4_Lexicographic_semantics/L09 [antonyms - gradable].txt\")\n",
    "L09_trans = translate_bats(L09_source, inverted_dil_lemmatized)"
   ]
  },
  {
   "cell_type": "code",
   "execution_count": 734,
   "metadata": {},
   "outputs": [
    {
     "name": "stdout",
     "output_type": "stream",
     "text": [
      "34 out of 50 examples translated\n"
     ]
    },
    {
     "data": {
      "text/plain": [
       "dict_keys(['able', 'abundant', 'beautiful', 'big', 'bright', 'clean', 'clear', 'close', 'common', 'competent', 'dangerous', 'decisive', 'dry', 'energetic', 'familiar', 'fat', 'full', 'generous', 'happy', 'hard', 'hot', 'large', 'long', 'lumpy', 'noisy', 'rich', 'short', 'simple', 'sincere', 'slow', 'tight', 'warm', 'white', 'young'])"
      ]
     },
     "execution_count": 734,
     "metadata": {},
     "output_type": "execute_result"
    }
   ],
   "source": [
    "print(\"%s out of %s examples translated\" % (len(L09_trans), len(L09_source)))\n",
    "percent_translated['L09'] = len(L09_trans)/len(L09_source)\n",
    "L09_trans.keys()"
   ]
  },
  {
   "cell_type": "code",
   "execution_count": 735,
   "metadata": {},
   "outputs": [
    {
     "data": {
      "text/plain": [
       "{'trans': ['sith',\n",
       "  'loing',\n",
       "  'sithithir',\n",
       "  'fota',\n",
       "  'lang',\n",
       "  'cían',\n",
       "  'seta',\n",
       "  'diu'],\n",
       " 'pair': {'short': ['breib', 'cummair', 'timortae', 'garit', 'crocc'],\n",
       "  'brief': ['cummair', 'athchummair'],\n",
       "  'fugitive': ['fuidrecht', 'díbertach'],\n",
       "  'close': ['clithach',\n",
       "   'dlúthmar',\n",
       "   'dlúthach',\n",
       "   'druit',\n",
       "   'timscarad',\n",
       "   'docht',\n",
       "   'clós',\n",
       "   'comíadaid',\n",
       "   'foriata',\n",
       "   'fordúnta',\n",
       "   'for-dúna',\n",
       "   'íadaid',\n",
       "   'fo-íada',\n",
       "   'druitid',\n",
       "   'dúnaid',\n",
       "   'glasaigid',\n",
       "   'dúnad',\n",
       "   'fodluthad',\n",
       "   'foriadad',\n",
       "   'drut'],\n",
       "  'compact': ['dílmaines',\n",
       "   'comdlús',\n",
       "   'estoaiscthe',\n",
       "   'comal',\n",
       "   'cennach',\n",
       "   'compáirt'],\n",
       "  'thick': ['tiugaide', 'borr']}}"
      ]
     },
     "execution_count": 735,
     "metadata": {},
     "output_type": "execute_result"
    }
   ],
   "source": [
    "L09_trans['long']"
   ]
  },
  {
   "cell_type": "code",
   "execution_count": 736,
   "metadata": {},
   "outputs": [],
   "source": [
    "with open('BATS_L09_trans.json', 'w', encoding='utf-8') as f:\n",
    "    json.dump(L09_trans, f, ensure_ascii = False, sort_keys=True)"
   ]
  },
  {
   "cell_type": "markdown",
   "metadata": {},
   "source": [
    "### Antonyms: binary (L10)"
   ]
  },
  {
   "cell_type": "code",
   "execution_count": 737,
   "metadata": {},
   "outputs": [],
   "source": [
    "L10_source = load_bats(\"../Embeddings/evaluation_datasets/Analogy/BATS_3.0/4_Lexicographic_semantics/L10 [antonyms - binary].txt\")\n",
    "L10_trans = translate_bats(L10_source, inverted_dil_lemmatized)"
   ]
  },
  {
   "cell_type": "code",
   "execution_count": 738,
   "metadata": {},
   "outputs": [
    {
     "name": "stdout",
     "output_type": "stream",
     "text": [
      "28 out of 50 examples translated\n"
     ]
    },
    {
     "data": {
      "text/plain": [
       "dict_keys(['after', 'before', 'below', 'climb', 'dead', 'descend', 'down', 'drop', 'employ', 'exit', 'fall', 'first', 'forget', 'forward', 'front', 'in', 'inside', 'internal', 'mortal', 'over', 'previously', 'proceed', 'rise', 'south', 'top', 'true', 'under', 'up'])"
      ]
     },
     "execution_count": 738,
     "metadata": {},
     "output_type": "execute_result"
    }
   ],
   "source": [
    "print(\"%s out of %s examples translated\" % (len(L10_trans), len(L10_source)))\n",
    "percent_translated['L10'] = len(L10_trans)/len(L10_source)\n",
    "L10_trans.keys()"
   ]
  },
  {
   "cell_type": "code",
   "execution_count": 739,
   "metadata": {},
   "outputs": [
    {
     "data": {
      "text/plain": [
       "{'trans': ['dalbba'],\n",
       " 'pair': {'back': ['druimne',\n",
       "   'druimm',\n",
       "   'cúl',\n",
       "   'ais',\n",
       "   'síar',\n",
       "   'frithing',\n",
       "   'íartharach'],\n",
       "  'backwards': ['síar']}}"
      ]
     },
     "execution_count": 739,
     "metadata": {},
     "output_type": "execute_result"
    }
   ],
   "source": [
    "L10_trans['forward']"
   ]
  },
  {
   "cell_type": "code",
   "execution_count": 740,
   "metadata": {},
   "outputs": [],
   "source": [
    "with open('BATS_L10_trans.json', 'w', encoding='utf-8') as f:\n",
    "    json.dump(L10_trans, f, ensure_ascii = False, sort_keys=True)"
   ]
  },
  {
   "cell_type": "code",
   "execution_count": 741,
   "metadata": {},
   "outputs": [
    {
     "data": {
      "text/plain": [
       "{'E01': 0.02,\n",
       " 'E02': 0.14,\n",
       " 'E06': 0.34,\n",
       " 'E07': 0.5,\n",
       " 'E08': 0.34,\n",
       " 'E09': 0.5,\n",
       " 'E10': 0.16,\n",
       " 'L01': 0.34,\n",
       " 'L02': 0.26,\n",
       " 'L03': 0.48,\n",
       " 'L04': 0.44,\n",
       " 'L05': 0.62,\n",
       " 'L06': 0.36,\n",
       " 'L07': 0.58,\n",
       " 'L08': 0.4,\n",
       " 'L09': 0.68,\n",
       " 'L10': 0.56}"
      ]
     },
     "execution_count": 741,
     "metadata": {},
     "output_type": "execute_result"
    }
   ],
   "source": [
    "percent_translated"
   ]
  },
  {
   "cell_type": "code",
   "execution_count": 791,
   "metadata": {},
   "outputs": [
    {
     "data": {
      "text/plain": [
       "134"
      ]
     },
     "execution_count": 791,
     "metadata": {},
     "output_type": "execute_result"
    }
   ],
   "source": [
    "stimuli = []\n",
    "# for cat in [E01_trans, E02_trans, E06_trans, E07_trans, E08_trans, E09_trans, E10_trans, \n",
    "#             L01_trans, L02_trans, L03_trans, L04_trans, L05_trans, L06_trans, L07_trans, \n",
    "#             L08_trans, L09_trans, L10_trans]:\n",
    "for cat in [E09_trans, L07_trans, L08_trans, L09_trans, L10_trans]:\n",
    "    stimuli += list(cat.keys())\n",
    "    \n",
    "stimuli = list(set(stimuli))\n",
    "len(stimuli)"
   ]
  },
  {
   "cell_type": "code",
   "execution_count": 792,
   "metadata": {},
   "outputs": [],
   "source": [
    "stimuli_dict = {}\n",
    "for s in stimuli:\n",
    "    trans = inverted_dil_lemmatized[s]\n",
    "    tr_dict = {}\n",
    "    for tr in trans:\n",
    "        if counts[tr] >= 10:\n",
    "            tr_dict[tr] = counts[tr]\n",
    "    if len(tr_dict) != 0:\n",
    "        stimuli_dict[s] = tr_dict"
   ]
  },
  {
   "cell_type": "code",
   "execution_count": 793,
   "metadata": {},
   "outputs": [
    {
     "data": {
      "text/plain": [
       "72"
      ]
     },
     "execution_count": 793,
     "metadata": {},
     "output_type": "execute_result"
    }
   ],
   "source": [
    "len(stimuli_dict)"
   ]
  },
  {
   "cell_type": "code",
   "execution_count": 794,
   "metadata": {},
   "outputs": [
    {
     "data": {
      "text/plain": [
       "{'mortal': {'marbtha': 109},\n",
       " 'bright': {'luchair': 40,\n",
       "  'solus': 183,\n",
       "  'nechta': 12,\n",
       "  'tind': 49,\n",
       "  'lígda': 20,\n",
       "  'lóch': 54,\n",
       "  'glan': 515,\n",
       "  'sorchaide': 10,\n",
       "  'gregda': 11,\n",
       "  'glúair': 29,\n",
       "  'taitnemach': 21,\n",
       "  'étrocht': 13},\n",
       " 'cat': {'catt': 18},\n",
       " 'front': {'étan': 34},\n",
       " 'well': {'tipra': 104, 'immurgu': 197, 'topar': 37},\n",
       " 'drop': {'silid': 20},\n",
       " 'sun': {'grían': 130},\n",
       " 'child': {'lenab': 27},\n",
       " 'cry': {'gairm': 243},\n",
       " 'employ': {'imbert': 12, 'airbert': 52},\n",
       " 'beautiful': {'cruthach': 33, 'lógmar': 17},\n",
       " 'rise': {'éirge': 38},\n",
       " 'in': {'istech': 56, 'istig': 28},\n",
       " 'help': {'cobair': 112, 'fóirithin': 21, 'foirid': 65},\n",
       " 'clear': {'solus': 183,\n",
       "  'glórda': 18,\n",
       "  'follus': 569,\n",
       "  'glainide': 16,\n",
       "  'glan': 515,\n",
       "  'glúair': 29,\n",
       "  'réill': 10,\n",
       "  'ruba': 33,\n",
       "  'sligid': 105},\n",
       " 'south': {'tess': 71, 'descert': 31},\n",
       " 'like': {'amail': 1262,\n",
       "  'samalta': 107,\n",
       "  'samail': 191,\n",
       "  'immar': 91,\n",
       "  'cosmail': 135},\n",
       " 'cream': {'cróch': 14},\n",
       " 'top': {'mullach': 284},\n",
       " 'angry': {'bairnech': 17, 'fergach': 76, 'lonn': 102},\n",
       " 'up': {'túas': 20, 'súas': 171},\n",
       " 'flower': {'bláth': 133},\n",
       " 'shore': {'calad': 43, 'bruach': 90, 'tráig': 85, 'lith': 75},\n",
       " 'hungry': {'goirt': 48},\n",
       " 'first': {'ceta': 22, 'toísech': 31},\n",
       " 'familiar': {'gnáth': 268},\n",
       " 'hard': {'deccair': 14,\n",
       "  'amnas': 51,\n",
       "  'gleo': 105,\n",
       "  'dodaing': 17,\n",
       "  'doirb': 17,\n",
       "  'rigin': 47},\n",
       " 'guilty': {'cintach': 44},\n",
       " 'fat': {'méth': 28, 'béoil': 21, 'blonac': 11},\n",
       " 'love': {'grád': 95, 'inmaine': 32, 'carthach': 13, 'carthanach': 13},\n",
       " 'dry': {'tath': 15, 'tírim': 21},\n",
       " 'competent': {'meise': 34, 'folaid': 28},\n",
       " 'salt': {'saillte': 13},\n",
       " 'clean': {'necht': 68, 'glan': 515},\n",
       " 'peony': {'pione': 10},\n",
       " 'dislike': {'miscais': 41},\n",
       " 'big': {'mogda': 14},\n",
       " 'cloth': {'bréit': 10},\n",
       " 'proceed': {'saigid': 228, 'imthecht': 187},\n",
       " 'tight': {'docht': 26},\n",
       " 'common': {'coitchenn': 130},\n",
       " 'sincere': {'idan': 19},\n",
       " 'sea': {'bath': 19, 'muirn': 60},\n",
       " 'list': {'tuirem': 12},\n",
       " 'rock': {'crec': 12, 'carrac': 43},\n",
       " 'long': {'sith': 261,\n",
       "  'loing': 59,\n",
       "  'sithithir': 11,\n",
       "  'fota': 198,\n",
       "  'cían': 285,\n",
       "  'seta': 26},\n",
       " 'climb': {'dréim': 36},\n",
       " 'want': {'tacha': 32, 'gainne': 16, 'bochta': 24, 'esbadach': 10},\n",
       " 'grass': {'srath': 33},\n",
       " 'intelligent': {'gáeth': 122},\n",
       " 'exit': {'estecht': 23},\n",
       " 'rich': {'saidbir': 36},\n",
       " 'snow': {'adar': 21, 'cith': 83, 'snechta': 172},\n",
       " 'strong': {'slat': 133,\n",
       "  'tolgda': 13,\n",
       "  'daingen': 166,\n",
       "  'balc': 46,\n",
       "  'amnas': 51,\n",
       "  'medb': 892,\n",
       "  'sonairt': 24,\n",
       "  'nertmar': 31,\n",
       "  'tailc': 43,\n",
       "  'trén': 316,\n",
       "  'comdaingen': 14,\n",
       "  'lonn': 102,\n",
       "  'fortamail': 37},\n",
       " 'milk': {'lacht': 44, 'blegon': 19},\n",
       " 'bad': {'saich': 25, 'droch': 48},\n",
       " 'short': {'garit': 36},\n",
       " 'pain': {'toirse': 22, 'ainces': 12},\n",
       " 'fall': {'tuisel': 11},\n",
       " 'unfortunate': {'dona': 1931},\n",
       " 'portion': {'cuit': 149, 'drécht': 15},\n",
       " 'blood': {'fuil': 1835},\n",
       " 'before': {'roim': 317, 'tair': 394, 'resíu': 11},\n",
       " 'happy': {'sirsan': 33, 'fechtnach': 46, 'ségda': 26, 'subach': 91},\n",
       " 'damp': {'tais': 28},\n",
       " 'lazy': {'lesc': 45},\n",
       " 'house': {'beith': 2241, 'tech': 1139, 'treb': 72, 'tegdais': 19},\n",
       " 'sad': {'trúag': 130,\n",
       "  'dirsan': 67,\n",
       "  'dubach': 55,\n",
       "  'dobrónach': 25,\n",
       "  'dogair': 15,\n",
       "  'brónach': 45,\n",
       "  'cumthach': 30},\n",
       " 'close': {'docht': 26, 'dúnaid': 92, 'dúnad': 146},\n",
       " 'abundant': {'blicht': 40, 'línmar': 26},\n",
       " 'sugar': {'siúcra': 29},\n",
       " 'parsley': {'persille': 35}}"
      ]
     },
     "execution_count": 794,
     "metadata": {},
     "output_type": "execute_result"
    }
   ],
   "source": [
    "stimuli_dict"
   ]
  },
  {
   "cell_type": "code",
   "execution_count": 795,
   "metadata": {},
   "outputs": [
    {
     "data": {
      "text/plain": [
       "{'child': {'trans': ['lenab', 'garlach', 'noed'],\n",
       "  'pair': {'youngster': ['fothlucc'], 'shaver': ['tescthaid']}},\n",
       " 'cloth': {'trans': ['bis', 'bréit'],\n",
       "  'pair': {'material': ['stairide', 'adbar', 'adbarda', 'substaint']}},\n",
       " 'flower': {'trans': ['cocán', 'bláth'],\n",
       "  'pair': {'blossom': ['cocán', 'bláth', 'escar']}},\n",
       " 'help': {'trans': ['cobair',\n",
       "   'comḟóirithin',\n",
       "   'succura',\n",
       "   'do-fóir',\n",
       "   'cuitecht',\n",
       "   'fóired',\n",
       "   'fóirithin',\n",
       "   'fóirithnigud',\n",
       "   'for-tét',\n",
       "   'tóirithnigid',\n",
       "   'fortachtaigid',\n",
       "   'foirid',\n",
       "   'fóirithnigid',\n",
       "   'cobraithir',\n",
       "   'fo-reith',\n",
       "   'comḟurtaigid',\n",
       "   'con-gní'],\n",
       "  'pair': {'aid': ['congnam', 'femmor', 'congnam'],\n",
       "   'assist': ['for-tét', 'con-gní']}},\n",
       " 'incorrect': {'trans': ['ingcert'],\n",
       "  'pair': {'wrong': ['aindlecht',\n",
       "    'éccert',\n",
       "    'dochert',\n",
       "    'airmitiu',\n",
       "    'aincride',\n",
       "    'éccóir',\n",
       "    'olc',\n",
       "    'éccóire'],\n",
       "   'erroneous': ['erráidech', 'imrollach', 'fordallach', 'comroircnech'],\n",
       "   'inaccurate': ['éigrinn', 'éccóir'],\n",
       "   'unsound': ['eslán'],\n",
       "   'false': ['góach',\n",
       "    'dalbdae',\n",
       "    'brécach',\n",
       "    'fallsa',\n",
       "    'gú',\n",
       "    'dolbaide',\n",
       "    'forbannach']}},\n",
       " 'intelligent': {'trans': ['engnach',\n",
       "   'gáeth',\n",
       "   'intliuchtach',\n",
       "   'cíallamail',\n",
       "   'cíallach',\n",
       "   'tuicsech',\n",
       "   'gáesach',\n",
       "   'gáesmar'],\n",
       "  'pair': {'clever': ['callait',\n",
       "    'úaichlech',\n",
       "    'clestae',\n",
       "    'stúamda',\n",
       "    'érgnaid',\n",
       "    'túaichell',\n",
       "    'druin'],\n",
       "   'smart': ['scenb']}},\n",
       " 'jewel': {'trans': ['gemmach'],\n",
       "  'pair': {'stone': ['cloch', 'ail', 'cerd', 'cluipit']}},\n",
       " 'lady': {'trans': ['léadig'],\n",
       "  'pair': {'woman': ['ben', 'bé', 'cuiniu', 'airgen']}},\n",
       " 'lazy': {'trans': ['lorgánta', 'laiste', 'lesc', 'antach', 'de-áith'],\n",
       "  'pair': {'indolent': ['dimbeoda'],\n",
       "   'slothful': ['leiscemail', 'támáilte', 'de-áith']}},\n",
       " 'list': {'trans': ['liosta', 'tuirem'],\n",
       "  'pair': {'enumeration': ['racaid', 'áirmidetu']}},\n",
       " 'loyal': {'trans': ['dimraith', 'comailltech'],\n",
       "  'pair': {'faithful': ['coingellach',\n",
       "    'creitmech',\n",
       "    'idan',\n",
       "    'comailltech',\n",
       "    'tairisech',\n",
       "    'iressach'],\n",
       "   'true': ['rán', 'sebrach', 'fír', 'fírinnech'],\n",
       "   'reliable': ['coingellach']}},\n",
       " 'murder': {'trans': ['duinorcun', 'dunmarbaid', 'échtaigid'],\n",
       "  'pair': {'slaying': ['geognad',\n",
       "    'rubad',\n",
       "    'marbad',\n",
       "    'slige',\n",
       "    'airdbe',\n",
       "    'básugad',\n",
       "    'écht'],\n",
       "   'slay': ['ar-slig',\n",
       "    'oirgid',\n",
       "    'rubaid',\n",
       "    'ortaid',\n",
       "    'marbaid',\n",
       "    'esbaigid',\n",
       "    'ar-oirg',\n",
       "    'dunmarbaid',\n",
       "    'for-díben',\n",
       "    'básaigid',\n",
       "    'nettid',\n",
       "    'imm-ruba',\n",
       "    'ar-díben',\n",
       "    'échtaigid']}},\n",
       " 'new': {'trans': ['núa'], 'pair': {'recent': ['núa']}},\n",
       " 'portion': {'trans': ['cuit',\n",
       "   'ordu',\n",
       "   'cuibrenn',\n",
       "   'comrann',\n",
       "   'stéig',\n",
       "   'drécht',\n",
       "   'taipe',\n",
       "   'scenach',\n",
       "   'tócht',\n",
       "   'airrann'],\n",
       "  'pair': {'part': ['cuit',\n",
       "    'rann',\n",
       "    'comrann',\n",
       "    'aisil',\n",
       "    'fodlach',\n",
       "    'drécht',\n",
       "    'airrann',\n",
       "    'dedailte',\n",
       "    'roinnide',\n",
       "    'deiliugad',\n",
       "    'eterdeligud',\n",
       "    'scarad',\n",
       "    'etarscarthain',\n",
       "    'dedail',\n",
       "    'etarscarad']}},\n",
       " 'reasonable': {'trans': ['codnach', 'de-chubaid'],\n",
       "  'pair': {'sensible': ['cétfadach',\n",
       "    'cíalla',\n",
       "    'cíallamail',\n",
       "    'coiceill',\n",
       "    'comchíalla']}},\n",
       " 'rock': {'trans': ['crec', 'ail', 'ailbech', 'carrac', 'lúascad'],\n",
       "  'pair': {'stone': ['cloch', 'ail', 'cerd', 'cluipit']}},\n",
       " 'shore': {'trans': ['calad', 'airimell', 'bruach', 'tráig', 'étrág', 'lith'],\n",
       "  'pair': {'coast': ['cósta'],\n",
       "   'strand': ['muirthend', 'tráig'],\n",
       "   'bank': ['airimell']}},\n",
       " 'snake': {'trans': ['colubir'], 'pair': {'serpent': ['colubir', 'athair']}},\n",
       " 'spouse': {'trans': ['tairgerthair', 'airnastaid', 'núachar'],\n",
       "  'pair': {'partner': ['aurrannach', 'comḟer']}},\n",
       " 'style': {'trans': ['stíl'],\n",
       "  'pair': {'manner': ['mainner', 'mod', 'cuchtair', 'feb'],\n",
       "   'mode': ['comairbert', 'mod', 'cuchtair'],\n",
       "   'fashion': ['mod', 'teipe', 'dénmach', 'cepptha'],\n",
       "   'way': ['sráit',\n",
       "    'bés',\n",
       "    'mod',\n",
       "    'inntech',\n",
       "    'conar',\n",
       "    'bel',\n",
       "    'sét',\n",
       "    'feb',\n",
       "    'roit']}}}"
      ]
     },
     "execution_count": 795,
     "metadata": {},
     "output_type": "execute_result"
    }
   ],
   "source": [
    "L08_trans"
   ]
  },
  {
   "cell_type": "code",
   "execution_count": 796,
   "metadata": {},
   "outputs": [
    {
     "data": {
      "text/plain": [
       "{'after': {'trans': ['íarmothá', 'íarmobí'],\n",
       "  'pair': {'before': ['roim', 'tair', 'air', 'resíu', 'sul'],\n",
       "   'previously': ['remdid',\n",
       "    'remḟoíte',\n",
       "    'remgnethe',\n",
       "    'remráidid',\n",
       "    'remi-aisndet']}},\n",
       " 'before': {'trans': ['roim', 'tair', 'air', 'resíu', 'sul'],\n",
       "  'pair': {'after': ['íarmothá', 'íarmobí'],\n",
       "   'afterwards': ['athúair', 'uaslathru']}},\n",
       " 'below': {'trans': ['allanís', 'allathís', 'íchtarach', 'tís', 'tísana'],\n",
       "  'pair': {'above': ['túas', 'remdid', 'túasana'],\n",
       "   'higher': ['úachtarach'],\n",
       "   'up': ['túas', 'súas']}},\n",
       " 'climb': {'trans': ['dréim', 'dreppairecht', 'dreppaid', 'dringid'],\n",
       "  'pair': {'descend': ['toíniud',\n",
       "    'tairniud',\n",
       "    'tairléim',\n",
       "    'do-fuinchid',\n",
       "    'tairnigid',\n",
       "    'do-airling'],\n",
       "   'descendant': ['eigre', 'tíarmórthaid'],\n",
       "   'down': ['sís', 'allathís', 'clúmach', 'clúm']}},\n",
       " 'dead': {'trans': ['ambí'],\n",
       "  'pair': {'alive': ['buti'], 'live': ['béothach', 'béodae']}},\n",
       " 'descend': {'trans': ['toíniud',\n",
       "   'tairniud',\n",
       "   'tairléim',\n",
       "   'do-fuinchid',\n",
       "   'tairnigid',\n",
       "   'do-airling'],\n",
       "  'pair': {'ascend': ['dréim',\n",
       "    'con-úala',\n",
       "    'fresgaib',\n",
       "    'fris-érig',\n",
       "    'fris-ócaib'],\n",
       "   'climb': ['dréim', 'dreppairecht', 'dreppaid', 'dringid'],\n",
       "   'rise': ['dígsigidir', 'fresgaib', 'ardaid', 'éirge', 'aithéirge']}},\n",
       " 'down': {'trans': ['sís', 'allathís', 'clúmach', 'clúm'],\n",
       "  'pair': {'up': ['túas', 'súas'],\n",
       "   'above': ['túas', 'remdid', 'túasana'],\n",
       "   'lead': ['remaigthe', 'remṡétaigthe', 'tuidchisse']}},\n",
       " 'drop': {'trans': ['bannae',\n",
       "   'dírain',\n",
       "   'bréisiu',\n",
       "   'bráen',\n",
       "   'do-insaim',\n",
       "   'silid',\n",
       "   'do-snig',\n",
       "   'snigid',\n",
       "   'bróenrad'],\n",
       "  'pair': {'lift': ['cumgabál', 'turcbál', 'tócbáil', 'do-ecaib']}},\n",
       " 'employ': {'trans': ['imbert', 'airbert'],\n",
       "  'pair': {'fire': ['smál',\n",
       "    'lasar',\n",
       "    'tnú',\n",
       "    'áed',\n",
       "    'daig',\n",
       "    'tendál',\n",
       "    'luisne',\n",
       "    'drac',\n",
       "    'grís',\n",
       "    'tóitén'],\n",
       "   'sack': ['sac', 'cilfing', 'píanán', 'setan', 'togail'],\n",
       "   'displace': ['etallugud'],\n",
       "   'terminate': ['foircnedach']}},\n",
       " 'exit': {'trans': ['estecht'],\n",
       "  'pair': {'entrance': ['inotacht', 'airport'], 'entry': ['inntráil']}},\n",
       " 'fall': {'trans': ['crinner',\n",
       "   'cutaim',\n",
       "   'tuisel',\n",
       "   'taothnasc',\n",
       "   'tuitmithe',\n",
       "   'tuisledach',\n",
       "   'cutmaide',\n",
       "   'tuitmithe',\n",
       "   'snige',\n",
       "   'tuisligid',\n",
       "   'truinid'],\n",
       "  'pair': {'rise': ['dígsigidir', 'fresgaib', 'ardaid', 'éirge', 'aithéirge'],\n",
       "   'climb': ['dréim', 'dreppairecht', 'dreppaid', 'dringid']}},\n",
       " 'first': {'trans': ['ceta',\n",
       "   'oenmad',\n",
       "   'prím',\n",
       "   'tosanach',\n",
       "   'toísenach',\n",
       "   'toísech',\n",
       "   'toísechda'],\n",
       "  'pair': {'last': ['tiug',\n",
       "    'deiredach',\n",
       "    'deirenach',\n",
       "    'déidenach',\n",
       "    'sithithir',\n",
       "    'feidil',\n",
       "    'búan',\n",
       "    'comnaidech',\n",
       "    'dúrad',\n",
       "    'continóitech',\n",
       "    'grésach',\n",
       "    'marthain',\n",
       "    'marthanach'],\n",
       "   'end': ['fínit',\n",
       "    'eithre',\n",
       "    'tiugbás',\n",
       "    'deo',\n",
       "    'dead',\n",
       "    'clúsal',\n",
       "    'immechtar',\n",
       "    'íarmartaige',\n",
       "    'ind',\n",
       "    'forar',\n",
       "    'forcindiud',\n",
       "    'airchinn',\n",
       "    'los',\n",
       "    'forcenn'],\n",
       "   'ending': ['foircnedach', 'timscarad'],\n",
       "   'final': ['immechtrach'],\n",
       "   'finish': ['féthán',\n",
       "    'foirbthe',\n",
       "    'forbaide',\n",
       "    'forbad',\n",
       "    'foirbthigud',\n",
       "    'taircsiu'],\n",
       "   'conclusion': ['conchlúid', 'dead', 'clúsal', 'conglúais']}},\n",
       " 'forget': {'trans': ['do-ruimnethar', 'dermataid', 'do-cíallathar'],\n",
       "  'pair': {'remember': ['cuman',\n",
       "    'foraithmet',\n",
       "    'mebrach',\n",
       "    'taithmet',\n",
       "    'cuimnigidir',\n",
       "    'taithmetaid'],\n",
       "   'recall': ['do-aithminedar', 'cuimnigidir']}},\n",
       " 'forward': {'trans': ['dalbba'],\n",
       "  'pair': {'back': ['druimne',\n",
       "    'druimm',\n",
       "    'cúl',\n",
       "    'ais',\n",
       "    'síar',\n",
       "    'frithing',\n",
       "    'íartharach'],\n",
       "   'backwards': ['síar']}},\n",
       " 'front': {'trans': ['étan', 'airbruinne', 'comardus', 'tarsainne'],\n",
       "  'pair': {'back': ['druimne',\n",
       "    'druimm',\n",
       "    'cúl',\n",
       "    'ais',\n",
       "    'síar',\n",
       "    'frithing',\n",
       "    'íartharach'],\n",
       "   'rear': ['domaigidir'],\n",
       "   'forepart': ['airenach']}},\n",
       " 'in': {'trans': ['istech', 'istig'],\n",
       "  'pair': {'outer': ['sechtarda', 'alltarach', 'immechtrach', 'forimmellach'],\n",
       "   'outside': ['sechtar',\n",
       "    'immaig',\n",
       "    'allamaig',\n",
       "    'immechtrach',\n",
       "    'immechtar',\n",
       "    'echtar',\n",
       "    'díanechtair',\n",
       "    'nechtair']}},\n",
       " 'inside': {'trans': ['allastig'],\n",
       "  'pair': {'outside': ['sechtar',\n",
       "    'immaig',\n",
       "    'allamaig',\n",
       "    'immechtrach',\n",
       "    'immechtar',\n",
       "    'echtar',\n",
       "    'díanechtair',\n",
       "    'nechtair']}},\n",
       " 'internal': {'trans': ['inmedónach'],\n",
       "  'pair': {'external': ['sechtarda',\n",
       "    'echtrannach',\n",
       "    'immechtrach',\n",
       "    'forimmellach'],\n",
       "   'outer': ['sechtarda', 'alltarach', 'immechtrach', 'forimmellach'],\n",
       "   'outside': ['sechtar',\n",
       "    'immaig',\n",
       "    'allamaig',\n",
       "    'immechtrach',\n",
       "    'immechtar',\n",
       "    'echtar',\n",
       "    'díanechtair',\n",
       "    'nechtair']}},\n",
       " 'mortal': {'trans': ['doénda', 'básaigthech', 'básamuil', 'marbtha'],\n",
       "  'pair': {'immortal': ['bithamla', 'domarbtha']}},\n",
       " 'over': {'trans': ['innonn'],\n",
       "  'pair': {'under': ['fo', 'fo-tá'],\n",
       "   'below': ['allanís', 'allathís', 'íchtarach', 'tís', 'tísana'],\n",
       "   'beneath': ['fo', 'anís']}},\n",
       " 'previously': {'trans': ['remdid',\n",
       "   'remḟoíte',\n",
       "   'remgnethe',\n",
       "   'remráidid',\n",
       "   'remi-aisndet'],\n",
       "  'pair': {'afterwards': ['athúair', 'uaslathru'],\n",
       "   'after': ['íarmothá', 'íarmobí'],\n",
       "   'subsequent': ['foilenmnach']}},\n",
       " 'proceed': {'trans': ['réimniugud',\n",
       "   'scuchad',\n",
       "   'forimthecht',\n",
       "   'saigid',\n",
       "   'imthecht',\n",
       "   'toichmech',\n",
       "   'réimmnigid',\n",
       "   'céimnigid',\n",
       "   'fo-cing',\n",
       "   'siblaid',\n",
       "   'scuchaid',\n",
       "   'cingid',\n",
       "   'for-reith',\n",
       "   'tairmchéimnigid',\n",
       "   'do-cumlai',\n",
       "   'con-luid',\n",
       "   'con-luí',\n",
       "   'fris-cing'],\n",
       "  'pair': {'retreat': ['díthrub', 'scuis', 'clód'],\n",
       "   'return': ['taidirsed',\n",
       "    'taig',\n",
       "    'taidrius',\n",
       "    'ad-intai',\n",
       "    'tathchoirthe',\n",
       "    'intód',\n",
       "    'tintathach',\n",
       "    'frithchor',\n",
       "    'comthód',\n",
       "    'clód',\n",
       "    'do-aithchuiredar',\n",
       "    'do-aithrith',\n",
       "    'taisiccid',\n",
       "    'térnóidid',\n",
       "    'do-intaí',\n",
       "    'tintaigid',\n",
       "    'aisicid',\n",
       "    'tairmchuirid',\n",
       "    'ad-cuirethar',\n",
       "    'athascnaid']}},\n",
       " 'rise': {'trans': ['dígsigidir', 'fresgaib', 'ardaid', 'éirge', 'aithéirge'],\n",
       "  'pair': {'sink': ['bádud'],\n",
       "   'drop': ['bannae',\n",
       "    'dírain',\n",
       "    'bréisiu',\n",
       "    'bráen',\n",
       "    'do-insaim',\n",
       "    'silid',\n",
       "    'do-snig',\n",
       "    'snigid',\n",
       "    'bróenrad'],\n",
       "   'fall': ['crinner',\n",
       "    'cutaim',\n",
       "    'tuisel',\n",
       "    'taothnasc',\n",
       "    'tuitmithe',\n",
       "    'tuisledach',\n",
       "    'cutmaide',\n",
       "    'tuitmithe',\n",
       "    'snige',\n",
       "    'tuisligid',\n",
       "    'truinid']}},\n",
       " 'south': {'trans': ['tess', 'faitse', 'descert'],\n",
       "  'pair': {'north': ['túaid']}},\n",
       " 'top': {'trans': ['druimchlí',\n",
       "   'úach',\n",
       "   'búaic',\n",
       "   'tulmong',\n",
       "   'bas',\n",
       "   'mual',\n",
       "   'mullach',\n",
       "   'tulchind',\n",
       "   'óchtar'],\n",
       "  'pair': {'bottom': ['fotha', 'forus', 'más']}},\n",
       " 'true': {'trans': ['rán', 'sebrach', 'fír', 'fírinnech'],\n",
       "  'pair': {'false': ['góach',\n",
       "    'dalbdae',\n",
       "    'brécach',\n",
       "    'fallsa',\n",
       "    'gú',\n",
       "    'dolbaide',\n",
       "    'forbannach'],\n",
       "   'incorrect': ['ingcert'],\n",
       "   'wrong': ['aindlecht',\n",
       "    'éccert',\n",
       "    'dochert',\n",
       "    'airmitiu',\n",
       "    'aincride',\n",
       "    'éccóir',\n",
       "    'olc',\n",
       "    'éccóire']}},\n",
       " 'under': {'trans': ['fo', 'fo-tá'],\n",
       "  'pair': {'over': ['innonn'],\n",
       "   'above': ['túas', 'remdid', 'túasana'],\n",
       "   'up': ['túas', 'súas']}},\n",
       " 'up': {'trans': ['túas', 'súas'],\n",
       "  'pair': {'down': ['sís', 'allathís', 'clúmach', 'clúm'],\n",
       "   'downwards': ['sís']}}}"
      ]
     },
     "execution_count": 796,
     "metadata": {},
     "output_type": "execute_result"
    }
   ],
   "source": [
    "L10_trans"
   ]
  },
  {
   "cell_type": "code",
   "execution_count": 797,
   "metadata": {},
   "outputs": [
    {
     "data": {
      "text/plain": [
       "{'able': {'trans': ['murrach', 'fedmmar', 'cuimgech', 'commusach'],\n",
       "  'pair': {'unable': ['dechmaing'],\n",
       "   'incapable': ['díchumaic'],\n",
       "   'unequal': ['éccumma']}},\n",
       " 'abundant': {'trans': ['pailt',\n",
       "   'blicht',\n",
       "   'taescach',\n",
       "   'roimsech',\n",
       "   'lánmar',\n",
       "   'línmar',\n",
       "   'ilardae'],\n",
       "  'pair': {'scarce': ['doḟagbála', 'tercdae'],\n",
       "   'rare': ['dígnais'],\n",
       "   'tight': ['dlúthach', 'docht'],\n",
       "   'meagre': ['fothana', 'terc', 'comṡeng'],\n",
       "   'stingy': ['gleo'],\n",
       "   'deficient': ['esbadach']}},\n",
       " 'beautiful': {'trans': ['cáemdae',\n",
       "   'cruthach',\n",
       "   'cadb',\n",
       "   'búaignige',\n",
       "   'lígach',\n",
       "   'scíamda',\n",
       "   'delbach',\n",
       "   'tuchtach',\n",
       "   'suíb',\n",
       "   'scíamach',\n",
       "   'cruthamail',\n",
       "   'oíbda',\n",
       "   'snúadach',\n",
       "   'gnóach',\n",
       "   'scothamail',\n",
       "   'lógmar',\n",
       "   'delbdae',\n",
       "   'súlchar'],\n",
       "  'pair': {'ugly': ['doithir',\n",
       "    'dodelbach',\n",
       "    'gránda',\n",
       "    'dodelbda',\n",
       "    'grach',\n",
       "    'gráinemail',\n",
       "    'domaissech',\n",
       "    'éccaín'],\n",
       "   'monstrous': ['michuirdech', 'toratharda'],\n",
       "   'hideous': ['forgráinne', 'gráinech', 'ainéitig'],\n",
       "   'repulsive': ['étig', 'gránda'],\n",
       "   'ill-favoured': ['dognúisech'],\n",
       "   'unlovely': ['éccaem'],\n",
       "   'unsightly': ['dochraid', 'dodeilb'],\n",
       "   'awkward': ['cittach']}},\n",
       " 'big': {'trans': ['maigne', 'mogda'],\n",
       "  'pair': {'small': ['bec',\n",
       "    'finn',\n",
       "    'súaill',\n",
       "    'derólach',\n",
       "    'nán',\n",
       "    'menb',\n",
       "    'deróil',\n",
       "    'dimbras'],\n",
       "   'diminutive': ['dígabthach', 'deidble'],\n",
       "   'dwarfish': ['nán'],\n",
       "   'minute': ['min', 'menb', 'menbach'],\n",
       "   'puny': ['dedbol', 'diss', 'dimbras'],\n",
       "   'slender': ['seng',\n",
       "    'tana',\n",
       "    'cáel',\n",
       "    'séim',\n",
       "    'comthana',\n",
       "    'singil',\n",
       "    'cres',\n",
       "    'forseng',\n",
       "    'midṡeng',\n",
       "    'seta'],\n",
       "   'smaller': ['laigéniu']}},\n",
       " 'bright': {'trans': ['lóchrannamail',\n",
       "   'luchair',\n",
       "   'caindeldae',\n",
       "   'án',\n",
       "   'solus',\n",
       "   'gríanach',\n",
       "   'nechta',\n",
       "   'gríanánach',\n",
       "   'goor',\n",
       "   'soillsech',\n",
       "   'soillside',\n",
       "   'luchardae',\n",
       "   'tind',\n",
       "   'geldae',\n",
       "   'taídlenach',\n",
       "   'gleórach',\n",
       "   'glanradach',\n",
       "   'gleóir',\n",
       "   'lígda',\n",
       "   'gel',\n",
       "   'faiceálach',\n",
       "   'lóch',\n",
       "   'gelbdaide',\n",
       "   'címer',\n",
       "   'gelbdae',\n",
       "   'glandae',\n",
       "   'tinngene',\n",
       "   'iubhladha',\n",
       "   'luisnech',\n",
       "   'lainnerda',\n",
       "   'gelmar',\n",
       "   'taidbsech',\n",
       "   'lúaichthide',\n",
       "   'glan',\n",
       "   'sorchaide',\n",
       "   'éicside',\n",
       "   'lócharnach',\n",
       "   'gregda',\n",
       "   'glúair',\n",
       "   'étrochta',\n",
       "   'taitnemach',\n",
       "   'étrochtach',\n",
       "   'roithen',\n",
       "   'étrocht',\n",
       "   'dellraigthech'],\n",
       "  'pair': {'pale': ['eltaide'],\n",
       "   'dull': ['ainḟéig', 'dimbal', 'teimligid'],\n",
       "   'neutral': ['nemnechtardae', 'neuturáldae'],\n",
       "   'white': ['aigfind', 'bán', 'finnemail', 'gel', 'gelmar'],\n",
       "   'waxen': ['cíarach']}},\n",
       " 'clean': {'trans': ['necht', 'glan', 'erglanad', 'níamaid'],\n",
       "  'pair': {'dirty': ['salchaid',\n",
       "    'salaigid',\n",
       "    'sailchide',\n",
       "    'smertha',\n",
       "    'salach',\n",
       "    'brodach'],\n",
       "   'unclean': ['escmon', 'inglan', 'esidan', 'esconn'],\n",
       "   'black': ['fordub', 'loch', 'íar', 'fias', 'cíar'],\n",
       "   'filthy': ['tormasach', 'asalach', 'cáidech', 'mosach'],\n",
       "   'foul': ['brén'],\n",
       "   'greasy': ['úscda', 'olrach', 'gerthide', 'úscaide', 'olarda'],\n",
       "   'oily': ['olamail'],\n",
       "   'muddy': ['cechraid', 'cechrach'],\n",
       "   'snotty': ['ronna'],\n",
       "   'sooty': ['suigemail', 'dethaide']}},\n",
       " 'clear': {'trans': ['solus',\n",
       "   'glórda',\n",
       "   'ecnae',\n",
       "   'súaichnid',\n",
       "   'gleóir',\n",
       "   'follus',\n",
       "   'glainide',\n",
       "   'gelbdae',\n",
       "   'glandae',\n",
       "   'forglan',\n",
       "   'glan',\n",
       "   'glúair',\n",
       "   'réill',\n",
       "   'réidtech',\n",
       "   'ruba',\n",
       "   'tamnach',\n",
       "   'ar-scarta',\n",
       "   'sligid'],\n",
       "  'pair': {'obscure': ['díamrach',\n",
       "    'dolus',\n",
       "    'amdarc',\n",
       "    'inglé',\n",
       "    'dúaithnid',\n",
       "    'indrocht',\n",
       "    'drocht',\n",
       "    'forscáthach',\n",
       "    'díṡolus',\n",
       "    'airdub',\n",
       "    'fortchedach',\n",
       "    'fortchide',\n",
       "    'fris-dorchaigedar',\n",
       "    'fordorchaid',\n",
       "    'dúaithnigud',\n",
       "    'dorchad',\n",
       "    'díamrugud'],\n",
       "   'unclear': ['anfollus']}},\n",
       " 'close': {'trans': ['clithach',\n",
       "   'dlúthmar',\n",
       "   'dlúthach',\n",
       "   'druit',\n",
       "   'timscarad',\n",
       "   'docht',\n",
       "   'clós',\n",
       "   'comíadaid',\n",
       "   'foriata',\n",
       "   'fordúnta',\n",
       "   'for-dúna',\n",
       "   'íadaid',\n",
       "   'fo-íada',\n",
       "   'druitid',\n",
       "   'dúnaid',\n",
       "   'glasaigid',\n",
       "   'dúnad',\n",
       "   'fodluthad',\n",
       "   'foriadad',\n",
       "   'drut'],\n",
       "  'pair': {'distant': ['brogaide', 'etercían', 'cían', 'airchían'],\n",
       "   'remote': ['díamrach', 'íarcúlach', 'díamair', 'etercían', 'derrit'],\n",
       "   'far': ['etercían']}},\n",
       " 'common': {'trans': ['cumanta',\n",
       "   'cumaide',\n",
       "   'doaccaldmach',\n",
       "   'coitchenn',\n",
       "   'dergna',\n",
       "   'durgnaide',\n",
       "   'commiscais',\n",
       "   'esconn'],\n",
       "  'pair': {'rare': ['dígnais'],\n",
       "   'scarce': ['doḟagbála', 'tercdae'],\n",
       "   'extraordinary': ['anaicenta', 'ingnáthach', 'amrae']}},\n",
       " 'competent': {'trans': ['meise', 'indraicthi', 'folaid', 'meisech'],\n",
       "  'pair': {'unskilled': ['doí', 'aineólach'],\n",
       "   'unqualified': ['doḟoltach', 'díḟolad'],\n",
       "   'inefficient': ['ónna']}},\n",
       " 'dangerous': {'trans': ['etaimech',\n",
       "   'peiriaclach',\n",
       "   'gáibthech',\n",
       "   'gáibthide',\n",
       "   'gúasachtach'],\n",
       "  'pair': {'safe': ['dínmar', 'bil', 'slán', 'inill'],\n",
       "   'harmless': ['ennac'],\n",
       "   'secure': ['glinn',\n",
       "    'inill',\n",
       "    'glinnide',\n",
       "    'fostaigid',\n",
       "    'con-eim',\n",
       "    'glinnid',\n",
       "    'naiscigid',\n",
       "    'glinnigid']}},\n",
       " 'decisive': {'trans': ['érchoíltech'], 'pair': {'hesitant': ['locach']}},\n",
       " 'dry': {'trans': ['tíraid',\n",
       "   'turaigid',\n",
       "   'tartamail',\n",
       "   'tath',\n",
       "   'tartmar',\n",
       "   'sesc',\n",
       "   'tír',\n",
       "   'dísc',\n",
       "   'feóda',\n",
       "   'tírim',\n",
       "   'feódaide',\n",
       "   'tírmaide',\n",
       "   'felc',\n",
       "   'tírmaigthech'],\n",
       "  'pair': {'wet': ['fliuchnus',\n",
       "    'foilc',\n",
       "    'fliuch',\n",
       "    'maoi',\n",
       "    'fliuchaid',\n",
       "    'bráenaid'],\n",
       "   'dewy': ['drúchtach', 'drúchtamail'],\n",
       "   'marshy': ['ríascanta', 'ríascach', 'ascach'],\n",
       "   'miry': ['goíthamail', 'críadaide', 'lápda'],\n",
       "   'muddy': ['cechraid', 'cechrach'],\n",
       "   'swampy': ['luimpre', 'ríascanta', 'féithech'],\n",
       "   'damp': ['fliuchaide', 'tais'],\n",
       "   'moist': ['fliuchaide',\n",
       "    'drúchtmar',\n",
       "    'dobrach',\n",
       "    'tais',\n",
       "    'mothla',\n",
       "    'maoi',\n",
       "    'uiscemail'],\n",
       "   'misty': ['dethmar',\n",
       "    'ceódach',\n",
       "    'ceómar',\n",
       "    'comḟliuch',\n",
       "    'cíachda',\n",
       "    'néltach',\n",
       "    'detfadach'],\n",
       "   'watery': ['uiscide', 'linnach', 'escach', 'srebach', 'uiscech'],\n",
       "   'showery': ['cithach'],\n",
       "   'rainy': ['foilc', 'flechdach', 'áinbech']}},\n",
       " 'energetic': {'trans': ['séitrech', 'spraicthech'],\n",
       "  'pair': {'lethargic': ['tannda'],\n",
       "   'languid': ['dimbeoda', 'támach'],\n",
       "   'listless': ['aimnertach'],\n",
       "   'inactive': ['déeid']}},\n",
       " 'familiar': {'trans': ['gnáth', 'tecnatae', 'aithenta'],\n",
       "  'pair': {'unfamiliar': ['anaithnid', 'ingnad'],\n",
       "   'strange': ['aineóil',\n",
       "    'doaithennta',\n",
       "    'ingantach',\n",
       "    'anaithnid',\n",
       "    'echtrann',\n",
       "    'dingna',\n",
       "    'ingnáthach',\n",
       "    'igra',\n",
       "    'ingnad',\n",
       "    'taidbsenach',\n",
       "    'deorata',\n",
       "    'ráthaigthe',\n",
       "    'anaithne',\n",
       "    'ainetargnaid',\n",
       "    'allmarda'],\n",
       "   'unknown': ['aineóil', 'anaithnid', 'dúaithnid', 'ainetargnaid'],\n",
       "   'foreign': ['echtranda',\n",
       "    'echtrann',\n",
       "    'comaithech',\n",
       "    'deorata',\n",
       "    'allmarach',\n",
       "    'allmarda',\n",
       "    'echtarda',\n",
       "    'andúthaig']}},\n",
       " 'fat': {'trans': ['méth',\n",
       "   'olar',\n",
       "   'geraine',\n",
       "   'béoil',\n",
       "   'foirchesamail',\n",
       "   'blonac',\n",
       "   'bloingech',\n",
       "   'íth',\n",
       "   'tigenda',\n",
       "   'béolaide',\n",
       "   'foirches',\n",
       "   'brechtán',\n",
       "   'úsc',\n",
       "   'méthas',\n",
       "   'méthrad',\n",
       "   'mucclass'],\n",
       "  'pair': {'thin': ['seng',\n",
       "    'tana',\n",
       "    'fothana',\n",
       "    'cáel',\n",
       "    'séim',\n",
       "    'séithlech',\n",
       "    'blin',\n",
       "    'séimide',\n",
       "    'sillanach',\n",
       "    'gannugud',\n",
       "    'séimigthech',\n",
       "    'tanaigid',\n",
       "    'séimigidir'],\n",
       "   'lean': ['splínach', 'blin', 'trúagaigid'],\n",
       "   'bony': ['cnámach', 'cnámaide'],\n",
       "   'haggard': ['agart'],\n",
       "   'slender': ['seng',\n",
       "    'tana',\n",
       "    'cáel',\n",
       "    'séim',\n",
       "    'comthana',\n",
       "    'singil',\n",
       "    'cres',\n",
       "    'forseng',\n",
       "    'midṡeng',\n",
       "    'seta'],\n",
       "   'slight': ['fóill', 'dedbol', 'licad'],\n",
       "   'trim': ['siscaithe', 'fulónta', 'cermnad', 'echlaim', 'cermnaid']}},\n",
       " 'full': {'trans': ['lánmar',\n",
       "   'inich',\n",
       "   'idbart',\n",
       "   'comlínta',\n",
       "   'túcáil',\n",
       "   'úcaid'],\n",
       "  'pair': {'empty': ['díscigid',\n",
       "    'fásaigid',\n",
       "    'folmaigid',\n",
       "    'cutal',\n",
       "    'cúacca',\n",
       "    'forbás',\n",
       "    'foigde',\n",
       "    'cuindbech',\n",
       "    'cocúae',\n",
       "    'folmugud',\n",
       "    'fásugud',\n",
       "    'taemad'],\n",
       "   'bare': ['lochairthe',\n",
       "    'fomael',\n",
       "    'fornocht',\n",
       "    'frithnocht',\n",
       "    'lomm',\n",
       "    'tarnocht',\n",
       "    'lommartha',\n",
       "    'leis',\n",
       "    'fem',\n",
       "    'lom',\n",
       "    'formáel',\n",
       "    'dírechtae',\n",
       "    'folomm'],\n",
       "   'blank': ['bán'],\n",
       "   'clean': ['necht', 'glan', 'erglanad', 'níamaid'],\n",
       "   'white': ['aigfind', 'bán', 'finnemail', 'gel', 'gelmar'],\n",
       "   'lifeless': ['splínuigthe', 'essanmide', 'airmarb', 'ambí', 'marbdae'],\n",
       "   'void': ['forbás', 'foigde', 'cuindbech', 'folmaigecht']}},\n",
       " 'generous': {'trans': ['suithchernda',\n",
       "   'liberálta',\n",
       "   'bronntach',\n",
       "   'aiscedach',\n",
       "   'fíalmar',\n",
       "   'scaipech',\n",
       "   'caithmech',\n",
       "   'soichlech',\n",
       "   'tabarthach',\n",
       "   'derlaicthech',\n",
       "   'gartaid',\n",
       "   'tidnaicthech',\n",
       "   'comḟíal',\n",
       "   'fodailtech',\n",
       "   'érnedach',\n",
       "   'túarastlach',\n",
       "   'eslabar',\n",
       "   'sceimeltach'],\n",
       "  'pair': {'stingy': ['gleo'],\n",
       "   'beggarly': ['sprinnlaigthe'],\n",
       "   'mean': ['súarrach',\n",
       "    'diúir',\n",
       "    'deróil',\n",
       "    'diss',\n",
       "    'duthair',\n",
       "    'deṡruith',\n",
       "    'táir',\n",
       "    'síans',\n",
       "    'séis',\n",
       "    'éifecht',\n",
       "    'commaín',\n",
       "    'cíallaid',\n",
       "    'glés'],\n",
       "   'close': ['clithach',\n",
       "    'dlúthmar',\n",
       "    'dlúthach',\n",
       "    'druit',\n",
       "    'timscarad',\n",
       "    'docht',\n",
       "    'clós',\n",
       "    'comíadaid',\n",
       "    'foriata',\n",
       "    'fordúnta',\n",
       "    'for-dúna',\n",
       "    'íadaid',\n",
       "    'fo-íada',\n",
       "    'druitid',\n",
       "    'dúnaid',\n",
       "    'glasaigid',\n",
       "    'dúnad',\n",
       "    'fodluthad',\n",
       "    'foriadad',\n",
       "    'drut'],\n",
       "   'near': ['comgarach',\n",
       "    'ii',\n",
       "    'comḟochraíb',\n",
       "    'focus',\n",
       "    'ocus',\n",
       "    'nessa',\n",
       "    'comḟocus',\n",
       "    'cenntarach'],\n",
       "   'niggardly': ['cailtech',\n",
       "    'cesachtach',\n",
       "    'léochaill',\n",
       "    'sticardach',\n",
       "    'díbech',\n",
       "    'dochlech',\n",
       "    'dothcherna'],\n",
       "   'miserly': ['léochaill', 'sticardach', 'sprinnlaigthe'],\n",
       "   'tight': ['dlúthach', 'docht'],\n",
       "   'selfish': ['aircesach', 'talchar'],\n",
       "   'ungenerous': ['léochaill']}},\n",
       " 'happy': {'trans': ['sirsan',\n",
       "   'fechtnach',\n",
       "   'sothcadach',\n",
       "   'ségda',\n",
       "   'son',\n",
       "   'sonaide',\n",
       "   'sénmar',\n",
       "   'findbadach',\n",
       "   'sólásach',\n",
       "   'oíbnech',\n",
       "   'subach'],\n",
       "  'pair': {'sad': ['toirsemail',\n",
       "    'cásmar',\n",
       "    'dograch',\n",
       "    'trúag',\n",
       "    'attoirsech',\n",
       "    'taideórach',\n",
       "    'taidiúir',\n",
       "    'scle',\n",
       "    'imḟrich',\n",
       "    'dirsan',\n",
       "    'dubach',\n",
       "    'dobrónach',\n",
       "    'dogar',\n",
       "    'imṡnímach',\n",
       "    'dogair',\n",
       "    'brónach',\n",
       "    'attrúag',\n",
       "    'cíamair',\n",
       "    'dogailsech',\n",
       "    'tríamandae',\n",
       "    'doilb',\n",
       "    'tríamnach',\n",
       "    'cumthach',\n",
       "    'inmall',\n",
       "    'tríamain',\n",
       "    'dúabais'],\n",
       "   'doleful': ['éccaíntech'],\n",
       "   'mournful': ['doilgesach',\n",
       "    'gubadach',\n",
       "    'taideórach',\n",
       "    'taidiúir',\n",
       "    'dubach',\n",
       "    'dogar',\n",
       "    'caídenach',\n",
       "    'caíntech',\n",
       "    'cumthach'],\n",
       "   'melancholy': ['muichnech', 'muichnechas', 'trúamdacht', 'doilb'],\n",
       "   'melancholic': ['melincech'],\n",
       "   'wistful': ['sírechtach', 'sírechtae'],\n",
       "   'lamentable': ['brónaide'],\n",
       "   'pitiful': ['trochamail']}},\n",
       " 'hard': {'trans': ['secdae',\n",
       "   'deccamlach',\n",
       "   'deccair',\n",
       "   'dúr',\n",
       "   'secc',\n",
       "   'dúrda',\n",
       "   'amnas',\n",
       "   'gleo',\n",
       "   'dodaing',\n",
       "   'cotut',\n",
       "   'ansae',\n",
       "   'doirb',\n",
       "   'doccrach',\n",
       "   'crúadach',\n",
       "   'caladphort',\n",
       "   'dechmaing',\n",
       "   'rigin'],\n",
       "  'pair': {'soft': ['tinach',\n",
       "    'lemnacht',\n",
       "    'maethnaide',\n",
       "    'maeth',\n",
       "    'tláith',\n",
       "    'mláith',\n",
       "    'bocad',\n",
       "    'mothla',\n",
       "    'áilgen',\n",
       "    'tim'],\n",
       "   'fleecy': ['lómar'],\n",
       "   'downy': ['clúmthach', 'clúmdae'],\n",
       "   'woolly': ['ollach'],\n",
       "   'spongy': ['spoinsemail'],\n",
       "   'velvet': ['meleuent']}},\n",
       " 'hot': {'trans': ['brothach', 'tessaide', 'té'],\n",
       "  'pair': {'cold': ['fúaraigecht',\n",
       "    'úarda',\n",
       "    'fúar',\n",
       "    'fuit',\n",
       "    'ócht',\n",
       "    'úaire',\n",
       "    'úacht',\n",
       "    'fúardaide',\n",
       "    'úaraide'],\n",
       "   'chilly': ['indḟúar'],\n",
       "   'frosty': ['cuisnech'],\n",
       "   'cool': ['indḟúar', 'fúarthach', 'fúaraigid', 'etar-úara', 'fúaraid'],\n",
       "   'frigid': ['úarda', 'fúardaide']}},\n",
       " 'large': {'trans': ['tromdám'],\n",
       "  'pair': {'small': ['bec',\n",
       "    'finn',\n",
       "    'súaill',\n",
       "    'derólach',\n",
       "    'nán',\n",
       "    'menb',\n",
       "    'deróil',\n",
       "    'dimbras'],\n",
       "   'little': ['bec'],\n",
       "   'diminutive': ['dígabthach', 'deidble'],\n",
       "   'dwarfish': ['nán'],\n",
       "   'minute': ['min', 'menb', 'menbach'],\n",
       "   'puny': ['dedbol', 'diss', 'dimbras'],\n",
       "   'slender': ['seng',\n",
       "    'tana',\n",
       "    'cáel',\n",
       "    'séim',\n",
       "    'comthana',\n",
       "    'singil',\n",
       "    'cres',\n",
       "    'forseng',\n",
       "    'midṡeng',\n",
       "    'seta'],\n",
       "   'smaller': ['laigéniu']}},\n",
       " 'long': {'trans': ['sith',\n",
       "   'loing',\n",
       "   'sithithir',\n",
       "   'fota',\n",
       "   'lang',\n",
       "   'cían',\n",
       "   'seta',\n",
       "   'diu'],\n",
       "  'pair': {'short': ['breib', 'cummair', 'timortae', 'garit', 'crocc'],\n",
       "   'brief': ['cummair', 'athchummair'],\n",
       "   'fugitive': ['fuidrecht', 'díbertach'],\n",
       "   'close': ['clithach',\n",
       "    'dlúthmar',\n",
       "    'dlúthach',\n",
       "    'druit',\n",
       "    'timscarad',\n",
       "    'docht',\n",
       "    'clós',\n",
       "    'comíadaid',\n",
       "    'foriata',\n",
       "    'fordúnta',\n",
       "    'for-dúna',\n",
       "    'íadaid',\n",
       "    'fo-íada',\n",
       "    'druitid',\n",
       "    'dúnaid',\n",
       "    'glasaigid',\n",
       "    'dúnad',\n",
       "    'fodluthad',\n",
       "    'foriadad',\n",
       "    'drut'],\n",
       "   'compact': ['dílmaines',\n",
       "    'comdlús',\n",
       "    'estoaiscthe',\n",
       "    'comal',\n",
       "    'cennach',\n",
       "    'compáirt'],\n",
       "   'thick': ['tiugaide', 'borr']}},\n",
       " 'lumpy': {'trans': ['cnapach', 'cnapánach'],\n",
       "  'pair': {'flat': ['fortan'],\n",
       "   'level': ['comardae',\n",
       "    'mín',\n",
       "    'socair',\n",
       "    'forréid',\n",
       "    'soréid',\n",
       "    'réid',\n",
       "    'comréid',\n",
       "    'réidtech',\n",
       "    'locrad'],\n",
       "   'plane': ['ceram'],\n",
       "   'even': ['cóir', 'socair', 'comchomthrom', 'comthrom']}},\n",
       " 'noisy': {'trans': ['glúarda',\n",
       "   'airlabarthaech',\n",
       "   'mongarach',\n",
       "   'glegrach',\n",
       "   'glórach',\n",
       "   'íachtach',\n",
       "   'gothach',\n",
       "   'fograch',\n",
       "   'síanach',\n",
       "   'gáirechtach',\n",
       "   'congáirech',\n",
       "   'trostmar',\n",
       "   'bruignech',\n",
       "   'beoltán',\n",
       "   'gáirech',\n",
       "   'labarthach',\n",
       "   'sestánach'],\n",
       "  'pair': {'silent': ['tostanach',\n",
       "    'tóethenach',\n",
       "    'sochtmar',\n",
       "    'tochtmar',\n",
       "    'tostadach',\n",
       "    'tostach'],\n",
       "   'dumb': ['ladan', 'ba', 'amlabar', 'múit', 'díbeóil', 'maen', 'dílabar'],\n",
       "   'mute': ['amlabar'],\n",
       "   'inarticulate': ['menn']}},\n",
       " 'rich': {'trans': ['saidbir', 'indmasach', 'indba', 'sommata', 'soim'],\n",
       "  'pair': {'poor': ['dommae',\n",
       "    'aidliccen',\n",
       "    'bocht',\n",
       "    'dindba',\n",
       "    'doimm',\n",
       "    'delb',\n",
       "    'delam',\n",
       "    'daidbir',\n",
       "    'lorán',\n",
       "    'mindech',\n",
       "    'dínnim'],\n",
       "   'destitute': ['doimm'],\n",
       "   'indigent': ['dindba', 'delam', 'daidbir', 'mindchichthe'],\n",
       "   'necessitous': ['ríachtanach'],\n",
       "   'needy': ['dommae',\n",
       "    'aidliccen',\n",
       "    'aidilccnech',\n",
       "    'airesbach',\n",
       "    'ríachtanach',\n",
       "    'doithcech']}},\n",
       " 'short': {'trans': ['breib', 'cummair', 'timortae', 'garit', 'crocc'],\n",
       "  'pair': {'tall': ['airard'],\n",
       "   'height': ['dindgna', 'dígsa', 'ailt', 'ardae'],\n",
       "   'long': ['sith',\n",
       "    'loing',\n",
       "    'sithithir',\n",
       "    'fota',\n",
       "    'lang',\n",
       "    'cían',\n",
       "    'seta',\n",
       "    'diu'],\n",
       "   'stately': ['dímaiss',\n",
       "    'inmálla',\n",
       "    'réimmemail',\n",
       "    'maerda',\n",
       "    'poinnmidhe',\n",
       "    'dattae',\n",
       "    'modmarach',\n",
       "    'státmar',\n",
       "    'míadamail']}},\n",
       " 'simple': {'trans': ['simplide',\n",
       "   'dḯuit',\n",
       "   'singilte',\n",
       "   'singil',\n",
       "   'óinmitech',\n",
       "   'sempul',\n",
       "   'forbáeth'],\n",
       "  'pair': {'difficult': ['dochrach',\n",
       "    'deccamlach',\n",
       "    'deccair',\n",
       "    'amgar',\n",
       "    'doaid',\n",
       "    'dodaing',\n",
       "    'nangtha',\n",
       "    'doirb',\n",
       "    'díing',\n",
       "    'doccair',\n",
       "    'doccamlach',\n",
       "    'doraid',\n",
       "    'dechmaing',\n",
       "    'dochumacht',\n",
       "    'doilig'],\n",
       "   'hard': ['secdae',\n",
       "    'deccamlach',\n",
       "    'deccair',\n",
       "    'dúr',\n",
       "    'secc',\n",
       "    'dúrda',\n",
       "    'amnas',\n",
       "    'gleo',\n",
       "    'dodaing',\n",
       "    'cotut',\n",
       "    'ansae',\n",
       "    'doirb',\n",
       "    'doccrach',\n",
       "    'crúadach',\n",
       "    'caladphort',\n",
       "    'dechmaing',\n",
       "    'rigin']}},\n",
       " 'sincere': {'trans': ['dḯuit', 'idan'],\n",
       "  'pair': {'obsequious': ['do-fairget'],\n",
       "   'oily': ['olamail'],\n",
       "   'unctuous': ['olrach', 'olar', 'olarda'],\n",
       "   'false': ['góach',\n",
       "    'dalbdae',\n",
       "    'brécach',\n",
       "    'fallsa',\n",
       "    'gú',\n",
       "    'dolbaide',\n",
       "    'forbannach'],\n",
       "   'counterfeit': ['brécach'],\n",
       "   'artful': ['ceirdide']}},\n",
       " 'slow': {'trans': ['dolam', 'dimbeoda', 'doé', 'tíamda', 'ainéscaid'],\n",
       "  'pair': {'fast': ['tredan',\n",
       "    'daingen',\n",
       "    'oín',\n",
       "    'cétlongad',\n",
       "    'troiscthech',\n",
       "    'trednach',\n",
       "    'aínid',\n",
       "    'troiscid',\n",
       "    'do-cin'],\n",
       "   'quick': ['solam',\n",
       "    'duibell',\n",
       "    'utmall',\n",
       "    'trait',\n",
       "    'fobaid',\n",
       "    'opunn',\n",
       "    'prapp',\n",
       "    'grip',\n",
       "    'béo',\n",
       "    'cliste',\n",
       "    'éscaid',\n",
       "    'grot',\n",
       "    'tapaid',\n",
       "    'athlom',\n",
       "    'aipéil',\n",
       "    'sceinmnech',\n",
       "    'ellam',\n",
       "    'lúath'],\n",
       "   'hot': ['brothach', 'tessaide', 'té'],\n",
       "   'express': ['for-dingair', 'do-foirndea', 'sluindid'],\n",
       "   'fleet': ['sílech', 'scaeth', 'siblach', 'somal'],\n",
       "   'swift': ['snéid',\n",
       "    'sidid',\n",
       "    'dathí',\n",
       "    'tricc',\n",
       "    'fúamann',\n",
       "    'opunn',\n",
       "    'ruthach',\n",
       "    'grip',\n",
       "    'éscaid',\n",
       "    'tapaid',\n",
       "    'somal',\n",
       "    'lúath',\n",
       "    'renn',\n",
       "    'éimid',\n",
       "    'aignech'],\n",
       "   'immediate': ['tulla', 'diḟót'],\n",
       "   'prompt': ['éim',\n",
       "    'solam',\n",
       "    'anathlam',\n",
       "    'adblam',\n",
       "    'fobaid',\n",
       "    'opunn',\n",
       "    'éscaid',\n",
       "    'ellam',\n",
       "    'éimid'],\n",
       "   'instant': ['mómint'],\n",
       "   'speedy': ['comlúath', 'solam', 'tolam'],\n",
       "   'rapid': ['merda', 'prapp'],\n",
       "   'windy': ['gáethach', 'gáethmar']}},\n",
       " 'tight': {'trans': ['dlúthach', 'docht'],\n",
       "  'pair': {'loose': ['étiug',\n",
       "    'laiste',\n",
       "    'telachtach',\n",
       "    'esredach',\n",
       "    'édlúith',\n",
       "    'forscaílte',\n",
       "    'scaílte',\n",
       "    'fúaslaici',\n",
       "    'taifnigid',\n",
       "    'trochlaid',\n",
       "    'ar-scaíli',\n",
       "    'díchenglad',\n",
       "    'fúascailt',\n",
       "    'fúaslucad',\n",
       "    'forfúaslucud',\n",
       "    'taifnech'],\n",
       "   'lax': ['édlúith', 'lax'],\n",
       "   'free': ['comṡáer', 'taifnech', 'taifnigid', 'saeraid'],\n",
       "   'liberal': ['doéndachtach',\n",
       "    'amgann',\n",
       "    'liberálta',\n",
       "    'bronntach',\n",
       "    'soichlech',\n",
       "    'tabarthach',\n",
       "    'mail']}},\n",
       " 'warm': {'trans': ['gairthe',\n",
       "   'tessaide',\n",
       "   'té',\n",
       "   'tessaigid',\n",
       "   'guirid',\n",
       "   'gerta',\n",
       "   'gerid',\n",
       "   'tessalaid'],\n",
       "  'pair': {'cool': ['indḟúar',\n",
       "    'fúarthach',\n",
       "    'fúaraigid',\n",
       "    'etar-úara',\n",
       "    'fúaraid'],\n",
       "   'cold': ['fúaraigecht',\n",
       "    'úarda',\n",
       "    'fúar',\n",
       "    'fuit',\n",
       "    'ócht',\n",
       "    'úaire',\n",
       "    'úacht',\n",
       "    'fúardaide',\n",
       "    'úaraide'],\n",
       "   'chilly': ['indḟúar'],\n",
       "   'frosty': ['cuisnech'],\n",
       "   'frigid': ['úarda', 'fúardaide']}},\n",
       " 'white': {'trans': ['aigfind', 'bán', 'finnemail', 'gel', 'gelmar'],\n",
       "  'pair': {'black': ['fordub', 'loch', 'íar', 'fias', 'cíar'],\n",
       "   'dark': ['doithir',\n",
       "    'etardorcha',\n",
       "    'teimlech',\n",
       "    'dimbal',\n",
       "    'teimlide',\n",
       "    'inglé',\n",
       "    'loch',\n",
       "    'modarda',\n",
       "    'doléir',\n",
       "    'drocht',\n",
       "    'díṡolus',\n",
       "    'íar',\n",
       "    'díṡoillside',\n",
       "    'cíabair',\n",
       "    'doborda',\n",
       "    'dúabair',\n",
       "    'túaimnech',\n",
       "    'dorchae',\n",
       "    'dorch',\n",
       "    'cíar',\n",
       "    'teim'],\n",
       "   'lightless': ['dolus']}},\n",
       " 'young': {'trans': ['anáesta', 'anáesmar', 'óc', 'anarsaid', 'fochnocán'],\n",
       "  'pair': {'old': ['crínna',\n",
       "    'arsaid',\n",
       "    'díbell',\n",
       "    'foirbthech',\n",
       "    'sruith',\n",
       "    'arsatae',\n",
       "    'sen',\n",
       "    'arsanta',\n",
       "    'áestae'],\n",
       "   'elderly': ['senórda'],\n",
       "   'senior': ['senórda', 'sruith'],\n",
       "   'age': ['ías',\n",
       "    'sruithe',\n",
       "    'díne',\n",
       "    'étte',\n",
       "    'áestacht',\n",
       "    'arsaid',\n",
       "    'forarsaid',\n",
       "    'foirbthech',\n",
       "    'senda',\n",
       "    'áesmar'],\n",
       "   'ancient': ['arsaid',\n",
       "    'áesach',\n",
       "    'arsatae',\n",
       "    'sen',\n",
       "    'arsanta',\n",
       "    'senda',\n",
       "    'áestae'],\n",
       "   'grey': ['garmnach'],\n",
       "   'grey-haired': ['grant'],\n",
       "   'venerable': ['amdoid',\n",
       "    'cádusach',\n",
       "    'sruithecda',\n",
       "    'cáttamail',\n",
       "    'cáttach',\n",
       "    'sruith'],\n",
       "   'mature': ['aipgigid', 'aipigthech', 'aipgigud']}}}"
      ]
     },
     "execution_count": 797,
     "metadata": {},
     "output_type": "execute_result"
    }
   ],
   "source": [
    "L09_trans"
   ]
  },
  {
   "cell_type": "code",
   "execution_count": 799,
   "metadata": {},
   "outputs": [
    {
     "name": "stdout",
     "output_type": "stream",
     "text": [
      "pailt: 0\n",
      "blicht: 40\n",
      "taescach: 0\n",
      "roimsech: 0\n",
      "lánmar: 0\n",
      "línmar: 26\n",
      "ilardae: 3\n"
     ]
    }
   ],
   "source": [
    "for t in L09_trans['abundant']['trans']:\n",
    "    print(\"%s: %s\" % (t, counts[t]))"
   ]
  },
  {
   "cell_type": "code",
   "execution_count": 800,
   "metadata": {},
   "outputs": [
    {
     "name": "stdout",
     "output_type": "stream",
     "text": [
      "lóchrannamail: 0\n",
      "luchair: 40\n",
      "caindeldae: 1\n",
      "án: 0\n",
      "solus: 183\n",
      "gríanach: 3\n",
      "nechta: 12\n",
      "gríanánach: 0\n",
      "goor: 1\n",
      "soillsech: 0\n",
      "soillside: 0\n",
      "luchardae: 1\n",
      "tind: 49\n",
      "geldae: 2\n",
      "taídlenach: 0\n",
      "gleórach: 0\n",
      "glanradach: 0\n",
      "gleóir: 5\n",
      "lígda: 20\n",
      "gel: 0\n",
      "faiceálach: 0\n",
      "lóch: 54\n",
      "gelbdaide: 2\n",
      "címer: 0\n",
      "gelbdae: 0\n",
      "glandae: 2\n",
      "tinngene: 2\n",
      "iubhladha: 0\n",
      "luisnech: 0\n",
      "lainnerda: 7\n",
      "gelmar: 0\n",
      "taidbsech: 1\n",
      "lúaichthide: 0\n",
      "glan: 515\n",
      "sorchaide: 10\n",
      "éicside: 0\n",
      "lócharnach: 0\n",
      "gregda: 11\n",
      "glúair: 29\n",
      "étrochta: 7\n",
      "taitnemach: 21\n",
      "étrochtach: 0\n",
      "roithen: 1\n",
      "étrocht: 13\n",
      "dellraigthech: 0\n"
     ]
    }
   ],
   "source": [
    "for t in L09_trans['bright']['trans']:\n",
    "    print(\"%s: %s\" % (t, counts[t]))"
   ]
  },
  {
   "cell_type": "code",
   "execution_count": 807,
   "metadata": {},
   "outputs": [],
   "source": [
    "def filter_counts(data, word):\n",
    "    c = {}\n",
    "    for t in data[word]['trans']:\n",
    "        if counts[t] != 0:\n",
    "            c[t] = counts[t]\n",
    "    if len(c) > 5:\n",
    "        res = dict(Counter(c).most_common(5))\n",
    "    elif len(c) <=5 and len(c) >3:\n",
    "        res = dict(Counter(c).most_common(3))\n",
    "    else:\n",
    "        res = c\n",
    "    return res"
   ]
  },
  {
   "cell_type": "code",
   "execution_count": 808,
   "metadata": {},
   "outputs": [],
   "source": [
    "filtered = {}\n",
    "for eng in L09_trans.keys():\n",
    "    res = filter_counts(L09_trans, eng)\n",
    "    filtered[eng] = res"
   ]
  },
  {
   "cell_type": "code",
   "execution_count": 809,
   "metadata": {},
   "outputs": [
    {
     "data": {
      "text/plain": [
       "{'able': {'cuimgech': 1},\n",
       " 'abundant': {'blicht': 40, 'línmar': 26, 'ilardae': 3},\n",
       " 'beautiful': {'cruthach': 33,\n",
       "  'lógmar': 17,\n",
       "  'lígach': 7,\n",
       "  'delbach': 5,\n",
       "  'tuchtach': 5},\n",
       " 'big': {'maigne': 6, 'mogda': 14},\n",
       " 'bright': {'glan': 515, 'solus': 183, 'lóch': 54, 'tind': 49, 'luchair': 40},\n",
       " 'clean': {'necht': 68, 'glan': 515},\n",
       " 'clear': {'follus': 569,\n",
       "  'glan': 515,\n",
       "  'solus': 183,\n",
       "  'sligid': 105,\n",
       "  'ruba': 33},\n",
       " 'close': {'dúnad': 146, 'dúnaid': 92, 'docht': 26, 'druit': 8, 'íadaid': 5},\n",
       " 'common': {'coitchenn': 130},\n",
       " 'competent': {'meise': 34, 'folaid': 28},\n",
       " 'dangerous': {'gáibthech': 6, 'gáibthide': 1, 'gúasachtach': 3},\n",
       " 'decisive': {},\n",
       " 'dry': {'tírim': 21, 'tath': 15, 'sesc': 1},\n",
       " 'energetic': {'séitrech': 3},\n",
       " 'familiar': {'gnáth': 268, 'aithenta': 4},\n",
       " 'fat': {'méth': 28, 'béoil': 21, 'blonac': 11, 'méthrad': 7, 'béolaide': 3},\n",
       " 'full': {},\n",
       " 'generous': {'eslabar': 3,\n",
       "  'bronntach': 2,\n",
       "  'tabarthach': 2,\n",
       "  'caithmech': 1,\n",
       "  'derlaicthech': 1},\n",
       " 'happy': {'subach': 91,\n",
       "  'fechtnach': 46,\n",
       "  'sirsan': 33,\n",
       "  'ségda': 26,\n",
       "  'sonaide': 9},\n",
       " 'hard': {'gleo': 105, 'amnas': 51, 'rigin': 47, 'dodaing': 17, 'doirb': 17},\n",
       " 'hot': {'brothach': 2, 'tessaide': 2},\n",
       " 'large': {'tromdám': 3},\n",
       " 'long': {'cían': 285, 'sith': 261, 'fota': 198, 'loing': 59, 'seta': 26},\n",
       " 'lumpy': {},\n",
       " 'noisy': {'glórach': 9,\n",
       "  'gothach': 4,\n",
       "  'fograch': 3,\n",
       "  'gáirechtach': 2,\n",
       "  'trostmar': 2},\n",
       " 'rich': {'saidbir': 36, 'sommata': 1, 'soim': 8},\n",
       " 'short': {'breib': 2, 'cummair': 7, 'garit': 36},\n",
       " 'simple': {'sempul': 2},\n",
       " 'sincere': {'idan': 19},\n",
       " 'slow': {'dolam': 1},\n",
       " 'tight': {'docht': 26},\n",
       " 'warm': {'gairthe': 6, 'tessaide': 2, 'tessaigid': 2},\n",
       " 'white': {},\n",
       " 'young': {'anarsaid': 1}}"
      ]
     },
     "execution_count": 809,
     "metadata": {},
     "output_type": "execute_result"
    }
   ],
   "source": [
    "filtered"
   ]
  },
  {
   "cell_type": "code",
   "execution_count": 810,
   "metadata": {},
   "outputs": [
    {
     "data": {
      "text/plain": [
       "['lánmar', 'inich', 'idbart', 'comlínta', 'túcáil', 'úcaid']"
      ]
     },
     "execution_count": 810,
     "metadata": {},
     "output_type": "execute_result"
    }
   ],
   "source": [
    "L09_trans['full']['trans']"
   ]
  },
  {
   "cell_type": "code",
   "execution_count": null,
   "metadata": {},
   "outputs": [],
   "source": []
  }
 ],
 "metadata": {
  "kernelspec": {
   "display_name": "Python 3",
   "language": "python",
   "name": "python3"
  },
  "language_info": {
   "codemirror_mode": {
    "name": "ipython",
    "version": 3
   },
   "file_extension": ".py",
   "mimetype": "text/x-python",
   "name": "python",
   "nbconvert_exporter": "python",
   "pygments_lexer": "ipython3",
   "version": "3.7.7"
  }
 },
 "nbformat": 4,
 "nbformat_minor": 4
}
